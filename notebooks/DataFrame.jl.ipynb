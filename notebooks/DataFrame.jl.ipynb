{
 "cells": [
  {
   "cell_type": "code",
   "execution_count": 2,
   "id": "998848e0-be7b-44eb-81c7-bb5a6c260726",
   "metadata": {},
   "outputs": [],
   "source": [
    "using DataFrames\n",
    "import CSV"
   ]
  },
  {
   "cell_type": "code",
   "execution_count": 5,
   "id": "39d9cd51",
   "metadata": {},
   "outputs": [
    {
     "data": {
      "text/html": [
       "<div><div style = \"float: left;\"><span>1×4 DataFrame</span></div><div style = \"clear: both;\"></div></div><div class = \"data-frame\" style = \"overflow-x: scroll;\"><table class = \"data-frame\" style = \"margin-bottom: 6px;\"><thead><tr class = \"header\"><th class = \"rowNumber\" style = \"font-weight: bold; text-align: right;\">Row</th><th style = \"text-align: left;\">location</th><th style = \"text-align: left;\">body_part</th><th style = \"text-align: left;\">outcome</th><th style = \"text-align: left;\">type</th></tr><tr class = \"subheader headerLastRow\"><th class = \"rowNumber\" style = \"font-weight: bold; text-align: right;\"></th><th title = \"InlineStrings.String15\" style = \"text-align: left;\">String15</th><th title = \"InlineStrings.String15\" style = \"text-align: left;\">String15</th><th title = \"InlineStrings.String7\" style = \"text-align: left;\">String7</th><th title = \"InlineStrings.String15\" style = \"text-align: left;\">String15</th></tr></thead><tbody><tr><td class = \"rowNumber\" style = \"font-weight: bold; text-align: right;\">1</td><td style = \"text-align: left;\">[111.5,52.9]</td><td style = \"text-align: left;\">Right Foot</td><td style = \"text-align: left;\">Off T</td><td style = \"text-align: left;\">Open Play</td></tr></tbody></table></div>"
      ],
      "text/latex": [
       "\\begin{tabular}{r|cccc}\n",
       "\t& location & body\\_part & outcome & type\\\\\n",
       "\t\\hline\n",
       "\t& String15 & String15 & String7 & String15\\\\\n",
       "\t\\hline\n",
       "\t1 & [111.5,52.9] & Right Foot & Off T & Open Play \\\\\n",
       "\\end{tabular}\n"
      ],
      "text/plain": [
       "\u001b[1m1×4 DataFrame\u001b[0m\n",
       "\u001b[1m Row \u001b[0m│\u001b[1m location     \u001b[0m\u001b[1m body_part  \u001b[0m\u001b[1m outcome \u001b[0m\u001b[1m type      \u001b[0m\n",
       "     │\u001b[90m String15     \u001b[0m\u001b[90m String15   \u001b[0m\u001b[90m String7 \u001b[0m\u001b[90m String15  \u001b[0m\n",
       "─────┼──────────────────────────────────────────────\n",
       "   1 │ [111.5,52.9]  Right Foot  Off T    Open Play"
      ]
     },
     "execution_count": 5,
     "metadata": {},
     "output_type": "execute_result"
    }
   ],
   "source": [
    "file_path = \"../data/shot_data.csv\"\n",
    "df = DataFrame(CSV.File(file_path))"
   ]
  },
  {
   "cell_type": "code",
   "execution_count": 6,
   "id": "57e0d8ae",
   "metadata": {},
   "outputs": [
    {
     "data": {
      "text/html": [
       "<div><div style = \"float: left;\"><span>1×4 DataFrame</span></div><div style = \"clear: both;\"></div></div><div class = \"data-frame\" style = \"overflow-x: scroll;\"><table class = \"data-frame\" style = \"margin-bottom: 6px;\"><thead><tr class = \"header\"><th class = \"rowNumber\" style = \"font-weight: bold; text-align: right;\">Row</th><th style = \"text-align: left;\">location</th><th style = \"text-align: left;\">body_part</th><th style = \"text-align: left;\">outcome</th><th style = \"text-align: left;\">type</th></tr><tr class = \"subheader headerLastRow\"><th class = \"rowNumber\" style = \"font-weight: bold; text-align: right;\"></th><th title = \"InlineStrings.String15\" style = \"text-align: left;\">String15</th><th title = \"InlineStrings.String15\" style = \"text-align: left;\">String15</th><th title = \"InlineStrings.String7\" style = \"text-align: left;\">String7</th><th title = \"InlineStrings.String15\" style = \"text-align: left;\">String15</th></tr></thead><tbody><tr><td class = \"rowNumber\" style = \"font-weight: bold; text-align: right;\">1</td><td style = \"text-align: left;\">[111.5,52.9]</td><td style = \"text-align: left;\">Right Foot</td><td style = \"text-align: left;\">Off T</td><td style = \"text-align: left;\">Open Play</td></tr></tbody></table></div>"
      ],
      "text/latex": [
       "\\begin{tabular}{r|cccc}\n",
       "\t& location & body\\_part & outcome & type\\\\\n",
       "\t\\hline\n",
       "\t& String15 & String15 & String7 & String15\\\\\n",
       "\t\\hline\n",
       "\t1 & [111.5,52.9] & Right Foot & Off T & Open Play \\\\\n",
       "\\end{tabular}\n"
      ],
      "text/plain": [
       "\u001b[1m1×4 DataFrame\u001b[0m\n",
       "\u001b[1m Row \u001b[0m│\u001b[1m location     \u001b[0m\u001b[1m body_part  \u001b[0m\u001b[1m outcome \u001b[0m\u001b[1m type      \u001b[0m\n",
       "     │\u001b[90m String15     \u001b[0m\u001b[90m String15   \u001b[0m\u001b[90m String7 \u001b[0m\u001b[90m String15  \u001b[0m\n",
       "─────┼──────────────────────────────────────────────\n",
       "   1 │ [111.5,52.9]  Right Foot  Off T    Open Play"
      ]
     },
     "execution_count": 6,
     "metadata": {},
     "output_type": "execute_result"
    }
   ],
   "source": [
    "df"
   ]
  }
 ],
 "metadata": {
  "kernelspec": {
   "display_name": "Julia 1.8.5",
   "language": "julia",
   "name": "julia-1.8"
  },
  "language_info": {
   "file_extension": ".jl",
   "mimetype": "application/julia",
   "name": "julia",
   "version": "1.8.5"
  }
 },
 "nbformat": 4,
 "nbformat_minor": 5
}
