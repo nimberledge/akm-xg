{
 "cells": [
  {
   "cell_type": "code",
   "execution_count": 1,
   "id": "f6244dd8",
   "metadata": {},
   "outputs": [
    {
     "ename": "LoadError",
     "evalue": "ArgumentError: Package JSON not found in current path.\n- Run `import Pkg; Pkg.add(\"JSON\")` to install the JSON package.",
     "output_type": "error",
     "traceback": [
      "ArgumentError: Package JSON not found in current path.\n- Run `import Pkg; Pkg.add(\"JSON\")` to install the JSON package.",
      "",
      "Stacktrace:",
      " [1] macro expansion",
      "   @ ./loading.jl:1163 [inlined]",
      " [2] macro expansion",
      "   @ ./lock.jl:223 [inlined]",
      " [3] require(into::Module, mod::Symbol)",
      "   @ Base ./loading.jl:1144"
     ]
    }
   ],
   "source": [
    "using Base.Math\n",
    "import Base.MathConstants\n",
    "using HTTP\n",
    "import JSON\n",
    "import PrettyPrint\n",
    "using Plots"
   ]
  },
  {
   "cell_type": "code",
   "execution_count": 2,
   "id": "dad6f234",
   "metadata": {},
   "outputs": [
    {
     "data": {
      "text/plain": [
       "plotshot (generic function with 1 method)"
      ]
     },
     "execution_count": 2,
     "metadata": {},
     "output_type": "execute_result"
    }
   ],
   "source": [
    "function rectangle(w, h, x, y)\n",
    "    return Shape(x .+ [0,w,w,0], y .+ [0,0,h,h])\n",
    "end\n",
    "\n",
    "\n",
    "function get_default_pitch(;scale=3, min_y=0, min_x=0, max_y=80, max_x=120, title=\"\", titlefont=nothing)\n",
    "    \n",
    "    if !isnothing(titlefont)\n",
    "        p = plot([min_y, max_y, max_y, min_y, min_y], [min_x, min_x, max_x, max_x, min_x], legend=false,\n",
    "            title=title, size=(scale*160, scale*240), linecolor=\"white\", axis=([], false), titlefont=titlefont)\n",
    "    else\n",
    "        p = plot([min_y, max_y, max_y, min_y, min_y], [min_x, min_x, max_x, max_x, min_x], legend=false,\n",
    "            title=title, size=(scale*160, scale*240), linecolor=\"white\", axis=([], false))\n",
    "    end\n",
    "\n",
    "    # Field rectangle\n",
    "    plot!(p, rectangle(max_y, max_x, 0, 0), opacity=1, fillcolor=\"green3\")\n",
    "    # Plot halfway line\n",
    "    plot!(p, [0, max_y], [max_x/2, max_x/2], linecolor=\"black\")\n",
    "\n",
    "    # Plot goals\n",
    "    goal_size = 8 # yards?\n",
    "    plot!(p, rectangle(8, -3, (max_y - goal_size)/2, 0), linecolor=\"black\", fillcolor=\"white\")\n",
    "    plot!(p, rectangle(8, 3, (max_y - goal_size)/2, max_x), linecolor=\"black\", fillcolor=\"white\")\n",
    "\n",
    "    # Plot 18-yard box\n",
    "    plot!(p, rectangle(44, 18, (max_y - goal_size)/2 - 18, 0 ), linecolor=\"black\", fillcolor=\"green3\")\n",
    "    plot!(p, rectangle(44, -18, (max_y - goal_size)/2 - 18, max_x ), linecolor=\"black\", fillcolor=\"green3\")\n",
    "    \n",
    "    # Plot the 6-yard box\n",
    "    plot!(p, rectangle(20, 6, (max_y - goal_size)/2 - 6, 0 ), linecolor=\"black\", fillcolor=\"green3\")\n",
    "    plot!(p, rectangle(20, -6, (max_y - goal_size)/2 - 6, max_x ), linecolor=\"black\", fillcolor=\"green3\")\n",
    "    \n",
    "    # Plot penalty spots\n",
    "    scatter!(p, [max_y/2, max_y/2], [12, max_x-12], markercolor=\"black\")\n",
    "    \n",
    "    # Plot the Ds\n",
    "    pts = Plots.partialcircle(π/6, 5/6*π, 250, 12)\n",
    "    x, y = Plots.unzip(pts)\n",
    "    x = x .+ max_y / 2\n",
    "    y = y .+ 12\n",
    "    plot!(p, x, y, linecolor=\"black\")\n",
    "\n",
    "    pts = Plots.partialcircle(π*7/6, 11/6*π, 250, 12)\n",
    "    x, y = Plots.unzip(pts)\n",
    "    x = x .+ max_y / 2\n",
    "    y = y .+ (max_x - 12)\n",
    "    plot!(p, x, y, linecolor=\"black\")\n",
    "    \n",
    "    # Plot center circle\n",
    "    pts = Plots.partialcircle(0, 2π, 250, 10)\n",
    "    x, y = Plots.unzip(pts)\n",
    "    x .+= max_y / 2\n",
    "    y .+= max_x / 2\n",
    "    plot!(p, x, y, linecolor=\"black\")\n",
    "    return p\n",
    "end\n",
    "\n",
    "function plotshot(entry; team_color=\"blue1\", opp_color=\"red1\", scale=3.5, title=\"Title\", font_size=4)\n",
    "    p = get_default_pitch(title=title, scale=scale, titlefont=font(font_size, \"Computer Modern\"))\n",
    "    if !(\"shot\" in keys(entry))\n",
    "        PrettyPrint.pprint(entry)\n",
    "    end\n",
    "    for player in entry[\"shot\"][\"freeze_frame\"]\n",
    "        if player[\"teammate\"]\n",
    "            mc = team_color\n",
    "        else\n",
    "            mc = opp_color\n",
    "        end\n",
    "        loc = player[\"location\"]\n",
    "        scatter!(p, [loc[2]], [loc[1]], markercolor=mc, legend=false)\n",
    "    end\n",
    "    loc = entry[\"location\"]\n",
    "    loc2 = entry[\"shot\"][\"end_location\"][1:2]\n",
    "    scatter!(p, [loc[2]], [loc[1]], markercolor=team_color, legend=false, label=\"Shot location\",\n",
    "             markershape=:star4, markersize=7)\n",
    "    plot!(p, [loc[2], loc2[2]], [loc[1], loc2[1]], linecolor=\"white\")\n",
    "    return p\n",
    "end"
   ]
  },
  {
   "cell_type": "code",
   "execution_count": 3,
   "id": "c65f7532",
   "metadata": {},
   "outputs": [
    {
     "ename": "LoadError",
     "evalue": "UndefVarError: JSON not defined",
     "output_type": "error",
     "traceback": [
      "UndefVarError: JSON not defined",
      "",
      "Stacktrace:",
      " [1] top-level scope",
      "   @ In[3]:5"
     ]
    }
   ],
   "source": [
    "url = \"https://raw.githubusercontent.com/statsbomb/open-data/master/data/events/15956.json\"\n",
    "\n",
    "r = HTTP.request(\"GET\", url)\n",
    "\n",
    "body = JSON.parse(String(r.body))\n",
    "println(typeof(body))\n",
    "PrettyPrint.pprint(body[1:5])"
   ]
  },
  {
   "cell_type": "code",
   "execution_count": 4,
   "id": "808d415f",
   "metadata": {},
   "outputs": [
    {
     "ename": "LoadError",
     "evalue": "UndefVarError: PrettyPrint not defined",
     "output_type": "error",
     "traceback": [
      "UndefVarError: PrettyPrint not defined",
      "",
      "Stacktrace:",
      " [1] top-level scope",
      "   @ In[4]:1"
     ]
    }
   ],
   "source": [
    "PrettyPrint.pprint(body[5])"
   ]
  },
  {
   "cell_type": "code",
   "execution_count": 5,
   "id": "a6255257",
   "metadata": {},
   "outputs": [
    {
     "ename": "LoadError",
     "evalue": "UndefVarError: body not defined",
     "output_type": "error",
     "traceback": [
      "UndefVarError: body not defined",
      "",
      "Stacktrace:",
      " [1] top-level scope",
      "   @ In[5]:1"
     ]
    }
   ],
   "source": [
    "temp = body[2721]\n",
    "PrettyPrint.pprint(temp)"
   ]
  },
  {
   "cell_type": "code",
   "execution_count": 6,
   "id": "78e0f012",
   "metadata": {},
   "outputs": [
    {
     "ename": "LoadError",
     "evalue": "UndefVarError: plot not defined",
     "output_type": "error",
     "traceback": [
      "UndefVarError: plot not defined",
      "",
      "Stacktrace:",
      " [1] get_default_pitch(; scale::Int64, min_y::Int64, min_x::Int64, max_y::Int64, max_x::Int64, title::String, titlefont::Nothing)",
      "   @ Main ./In[2]:12",
      " [2] get_default_pitch()",
      "   @ Main ./In[2]:6",
      " [3] top-level scope",
      "   @ In[6]:7"
     ]
    }
   ],
   "source": [
    "max_x = 120\n",
    "max_y = 80\n",
    "min_x = 0\n",
    "min_y = 0\n",
    "scale = 3.5\n",
    "\n",
    "p = get_default_pitch()\n",
    "cnt = 0\n",
    "\n",
    "for i=1:length(body)\n",
    "    entry = body[i]\n",
    "    if (entry[\"type\"][\"name\"] == \"Shot\" && entry[\"shot\"][\"outcome\"][\"name\"] == \"Goal\")\n",
    "        if (entry[\"possession_team\"][\"name\"] == \"Barcelona\")\n",
    "            mc = \"blue1\"\n",
    "        else\n",
    "            mc = \"red1\"\n",
    "        end\n",
    "#         for player in entry[\"shot\"][\"freeze_frame\"]\n",
    "#             println(\"\")\n",
    "#         end\n",
    "        cnt += 1\n",
    "        locs = [entry[\"location\"], entry[\"shot\"][\"end_location\"][1:2]]\n",
    "        plot!(p, [locs[1][2], locs[2][2]], [locs[1][1], locs[2][1]], linecolor=mc)\n",
    "    else\n",
    "        continue\n",
    "    end\n",
    "end\n",
    "\n",
    "p\n"
   ]
  },
  {
   "cell_type": "code",
   "execution_count": 7,
   "id": "e912b425",
   "metadata": {},
   "outputs": [
    {
     "ename": "LoadError",
     "evalue": "UndefVarError: body not defined",
     "output_type": "error",
     "traceback": [
      "UndefVarError: body not defined",
      "",
      "Stacktrace:",
      " [1] top-level scope",
      "   @ In[7]:1"
     ]
    }
   ],
   "source": [
    "temp = body[2721]\n",
    "PrettyPrint.pprint(temp)"
   ]
  },
  {
   "cell_type": "code",
   "execution_count": 8,
   "id": "3fc9e11e",
   "metadata": {},
   "outputs": [],
   "source": [
    "# # figure = Plots.figure()\n",
    "# scale = 3\n",
    "# p = get_default_pitch(title=\"Messi FK, 64' goal\", scale=3.5)\n",
    "# for player in temp[\"shot\"][\"freeze_frame\"]\n",
    "#     if player[\"teammate\"]\n",
    "#         mc = \"blue1\" \n",
    "#     else\n",
    "#         mc = \"red1\"\n",
    "#     end\n",
    "#     label = player[\"player\"][\"id\"]\n",
    "#     loc = player[\"location\"]\n",
    "#     scatter!(p, [loc[2]], [loc[1]], markercolor=mc, legend=false)\n",
    "# end\n",
    "\n",
    "# loc = temp[\"location\"]\n",
    "# loc2 = temp[\"shot\"][\"end_location\"][1:2]\n",
    "\n",
    "# scatter!(p, [loc[2]], [loc[1]], markercolor=\"blue1\", legend=false, label=\"FK Location\", markershape=:star4, markersize=7)\n",
    "# plot!(p, [loc[2], loc2[2]], [loc[1], loc2[1]], linecolor=\"white\")\n",
    "# p\n",
    "# # savefig(p, \"messi_fk\")"
   ]
  },
  {
   "cell_type": "code",
   "execution_count": 9,
   "id": "4a5d5afc",
   "metadata": {},
   "outputs": [
    {
     "ename": "LoadError",
     "evalue": "UndefVarError: body not defined",
     "output_type": "error",
     "traceback": [
      "UndefVarError: body not defined",
      "",
      "Stacktrace:",
      " [1] top-level scope",
      "   @ ./In[9]:3"
     ]
    }
   ],
   "source": [
    "plots = []\n",
    "font_size = 7\n",
    "for i=1:length(body)\n",
    "    entry = body[i]\n",
    "    if (entry[\"type\"][\"name\"] == \"Shot\")\n",
    "        minute = entry[\"minute\"] + 1\n",
    "        pname = entry[\"player\"][\"name\"]\n",
    "        res = entry[\"shot\"][\"outcome\"][\"name\"]\n",
    "        xG = entry[\"shot\"][\"statsbomb_xg\"]\n",
    "        title = \"$(minute)': $(pname)\\nresult: $(res) xG: $(xG)\"\n",
    "        if (entry[\"possession_team\"][\"name\"] == \"Barcelona\")\n",
    "            p = plotshot(entry, title=title, font_size=font_size)\n",
    "        else\n",
    "            p = plotshot(entry, team_color=\"red1\", opp_color=\"blue1\", title=title, font_size=font_size)\n",
    "        end\n",
    "        plots = Base.cat(plots, [p], dims=1)\n",
    "    end\n",
    "end"
   ]
  },
  {
   "cell_type": "code",
   "execution_count": 10,
   "id": "e33ac494",
   "metadata": {},
   "outputs": [
    {
     "ename": "LoadError",
     "evalue": "UndefVarError: plot not defined",
     "output_type": "error",
     "traceback": [
      "UndefVarError: plot not defined",
      "",
      "Stacktrace:",
      " [1] top-level scope",
      "   @ In[10]:1"
     ]
    }
   ],
   "source": [
    "f = plot(plots..., layout=length(plots), size=(1200, 1800))\n",
    "savefig(f, \"shots_in_game\")\n",
    "f"
   ]
  },
  {
   "cell_type": "code",
   "execution_count": null,
   "id": "0a76b148",
   "metadata": {},
   "outputs": [],
   "source": []
  }
 ],
 "metadata": {
  "kernelspec": {
   "display_name": "Julia 1.8.5",
   "language": "julia",
   "name": "julia-1.8"
  },
  "language_info": {
   "file_extension": ".jl",
   "mimetype": "application/julia",
   "name": "julia",
   "version": "1.8.5"
  }
 },
 "nbformat": 4,
 "nbformat_minor": 5
}
