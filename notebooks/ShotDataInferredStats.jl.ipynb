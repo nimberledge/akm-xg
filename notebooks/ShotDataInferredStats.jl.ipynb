{
 "cells": [
  {
   "cell_type": "code",
   "execution_count": 56,
   "id": "998848e0-be7b-44eb-81c7-bb5a6c260726",
   "metadata": {},
   "outputs": [],
   "source": [
    "using Base.Math\n",
    "using DataFrames\n",
    "using LinearAlgebra\n",
    "using LinearAlgebra.BLAS\n",
    "import CSV"
   ]
  },
  {
   "cell_type": "code",
   "execution_count": 57,
   "id": "7a558e51",
   "metadata": {},
   "outputs": [
    {
     "data": {
      "text/plain": [
       "\"../data/shot_data_aug.csv\""
      ]
     },
     "execution_count": 57,
     "metadata": {},
     "output_type": "execute_result"
    }
   ],
   "source": [
    "input_file_path = \"../data/shot_data.csv\"\n",
    "output_file_path = \"../data/shot_data_aug.csv\""
   ]
  },
  {
   "cell_type": "code",
   "execution_count": 58,
   "id": "39d9cd51",
   "metadata": {},
   "outputs": [
    {
     "data": {
      "text/html": [
       "<div><div style = \"float: left;\"><span>31195×5 DataFrame</span></div><div style = \"float: right;\"><span style = \"font-style: italic;\">31170 rows omitted</span></div><div style = \"clear: both;\"></div></div><div class = \"data-frame\" style = \"overflow-x: scroll;\"><table class = \"data-frame\" style = \"margin-bottom: 6px;\"><thead><tr class = \"header\"><th class = \"rowNumber\" style = \"font-weight: bold; text-align: right;\">Row</th><th style = \"text-align: left;\">location_x</th><th style = \"text-align: left;\">location_y</th><th style = \"text-align: left;\">body_part</th><th style = \"text-align: left;\">outcome</th><th style = \"text-align: left;\">type</th></tr><tr class = \"subheader headerLastRow\"><th class = \"rowNumber\" style = \"font-weight: bold; text-align: right;\"></th><th title = \"Float64\" style = \"text-align: left;\">Float64</th><th title = \"Float64\" style = \"text-align: left;\">Float64</th><th title = \"InlineStrings.String15\" style = \"text-align: left;\">String15</th><th title = \"InlineStrings.String31\" style = \"text-align: left;\">String31</th><th title = \"InlineStrings.String15\" style = \"text-align: left;\">String15</th></tr></thead><tbody><tr><td class = \"rowNumber\" style = \"font-weight: bold; text-align: right;\">1</td><td style = \"text-align: right;\">111.5</td><td style = \"text-align: right;\">52.9</td><td style = \"text-align: left;\">Right Foot</td><td style = \"text-align: left;\">Off T</td><td style = \"text-align: left;\">Open Play</td></tr><tr><td class = \"rowNumber\" style = \"font-weight: bold; text-align: right;\">2</td><td style = \"text-align: right;\">113.9</td><td style = \"text-align: right;\">26.4</td><td style = \"text-align: left;\">Left Foot</td><td style = \"text-align: left;\">Off T</td><td style = \"text-align: left;\">Open Play</td></tr><tr><td class = \"rowNumber\" style = \"font-weight: bold; text-align: right;\">3</td><td style = \"text-align: right;\">93.7</td><td style = \"text-align: right;\">34.7</td><td style = \"text-align: left;\">Left Foot</td><td style = \"text-align: left;\">Saved</td><td style = \"text-align: left;\">Open Play</td></tr><tr><td class = \"rowNumber\" style = \"font-weight: bold; text-align: right;\">4</td><td style = \"text-align: right;\">109.2</td><td style = \"text-align: right;\">39.1</td><td style = \"text-align: left;\">Head</td><td style = \"text-align: left;\">Off T</td><td style = \"text-align: left;\">Open Play</td></tr><tr><td class = \"rowNumber\" style = \"font-weight: bold; text-align: right;\">5</td><td style = \"text-align: right;\">107.8</td><td style = \"text-align: right;\">24.7</td><td style = \"text-align: left;\">Right Foot</td><td style = \"text-align: left;\">Off T</td><td style = \"text-align: left;\">Open Play</td></tr><tr><td class = \"rowNumber\" style = \"font-weight: bold; text-align: right;\">6</td><td style = \"text-align: right;\">108.6</td><td style = \"text-align: right;\">27.8</td><td style = \"text-align: left;\">Left Foot</td><td style = \"text-align: left;\">Wayward</td><td style = \"text-align: left;\">Open Play</td></tr><tr><td class = \"rowNumber\" style = \"font-weight: bold; text-align: right;\">7</td><td style = \"text-align: right;\">112.5</td><td style = \"text-align: right;\">41.7</td><td style = \"text-align: left;\">Head</td><td style = \"text-align: left;\">Off T</td><td style = \"text-align: left;\">Open Play</td></tr><tr><td class = \"rowNumber\" style = \"font-weight: bold; text-align: right;\">8</td><td style = \"text-align: right;\">112.4</td><td style = \"text-align: right;\">41.0</td><td style = \"text-align: left;\">Head</td><td style = \"text-align: left;\">Off T</td><td style = \"text-align: left;\">Open Play</td></tr><tr><td class = \"rowNumber\" style = \"font-weight: bold; text-align: right;\">9</td><td style = \"text-align: right;\">102.5</td><td style = \"text-align: right;\">30.1</td><td style = \"text-align: left;\">Right Foot</td><td style = \"text-align: left;\">Saved</td><td style = \"text-align: left;\">Open Play</td></tr><tr><td class = \"rowNumber\" style = \"font-weight: bold; text-align: right;\">10</td><td style = \"text-align: right;\">110.0</td><td style = \"text-align: right;\">27.7</td><td style = \"text-align: left;\">Right Foot</td><td style = \"text-align: left;\">Wayward</td><td style = \"text-align: left;\">Open Play</td></tr><tr><td class = \"rowNumber\" style = \"font-weight: bold; text-align: right;\">11</td><td style = \"text-align: right;\">106.1</td><td style = \"text-align: right;\">32.6</td><td style = \"text-align: left;\">Right Foot</td><td style = \"text-align: left;\">Off T</td><td style = \"text-align: left;\">Open Play</td></tr><tr><td class = \"rowNumber\" style = \"font-weight: bold; text-align: right;\">12</td><td style = \"text-align: right;\">116.5</td><td style = \"text-align: right;\">31.2</td><td style = \"text-align: left;\">Left Foot</td><td style = \"text-align: left;\">Saved</td><td style = \"text-align: left;\">Open Play</td></tr><tr><td class = \"rowNumber\" style = \"font-weight: bold; text-align: right;\">13</td><td style = \"text-align: right;\">105.6</td><td style = \"text-align: right;\">23.9</td><td style = \"text-align: left;\">Left Foot</td><td style = \"text-align: left;\">Blocked</td><td style = \"text-align: left;\">Open Play</td></tr><tr><td style = \"text-align: right;\">&vellip;</td><td style = \"text-align: right;\">&vellip;</td><td style = \"text-align: right;\">&vellip;</td><td style = \"text-align: right;\">&vellip;</td><td style = \"text-align: right;\">&vellip;</td><td style = \"text-align: right;\">&vellip;</td></tr><tr><td class = \"rowNumber\" style = \"font-weight: bold; text-align: right;\">31184</td><td style = \"text-align: right;\">97.3</td><td style = \"text-align: right;\">26.4</td><td style = \"text-align: left;\">Right Foot</td><td style = \"text-align: left;\">Goal</td><td style = \"text-align: left;\">Open Play</td></tr><tr><td class = \"rowNumber\" style = \"font-weight: bold; text-align: right;\">31185</td><td style = \"text-align: right;\">87.0</td><td style = \"text-align: right;\">46.5</td><td style = \"text-align: left;\">Left Foot</td><td style = \"text-align: left;\">Off T</td><td style = \"text-align: left;\">Open Play</td></tr><tr><td class = \"rowNumber\" style = \"font-weight: bold; text-align: right;\">31186</td><td style = \"text-align: right;\">101.5</td><td style = \"text-align: right;\">56.7</td><td style = \"text-align: left;\">Left Foot</td><td style = \"text-align: left;\">Off T</td><td style = \"text-align: left;\">Open Play</td></tr><tr><td class = \"rowNumber\" style = \"font-weight: bold; text-align: right;\">31187</td><td style = \"text-align: right;\">109.4</td><td style = \"text-align: right;\">42.4</td><td style = \"text-align: left;\">Right Foot</td><td style = \"text-align: left;\">Saved</td><td style = \"text-align: left;\">Open Play</td></tr><tr><td class = \"rowNumber\" style = \"font-weight: bold; text-align: right;\">31188</td><td style = \"text-align: right;\">109.3</td><td style = \"text-align: right;\">50.4</td><td style = \"text-align: left;\">Right Foot</td><td style = \"text-align: left;\">Off T</td><td style = \"text-align: left;\">Open Play</td></tr><tr><td class = \"rowNumber\" style = \"font-weight: bold; text-align: right;\">31189</td><td style = \"text-align: right;\">110.5</td><td style = \"text-align: right;\">33.3</td><td style = \"text-align: left;\">Head</td><td style = \"text-align: left;\">Off T</td><td style = \"text-align: left;\">Open Play</td></tr><tr><td class = \"rowNumber\" style = \"font-weight: bold; text-align: right;\">31190</td><td style = \"text-align: right;\">110.2</td><td style = \"text-align: right;\">36.3</td><td style = \"text-align: left;\">Head</td><td style = \"text-align: left;\">Saved</td><td style = \"text-align: left;\">Open Play</td></tr><tr><td class = \"rowNumber\" style = \"font-weight: bold; text-align: right;\">31191</td><td style = \"text-align: right;\">101.3</td><td style = \"text-align: right;\">38.6</td><td style = \"text-align: left;\">Right Foot</td><td style = \"text-align: left;\">Wayward</td><td style = \"text-align: left;\">Open Play</td></tr><tr><td class = \"rowNumber\" style = \"font-weight: bold; text-align: right;\">31192</td><td style = \"text-align: right;\">92.6</td><td style = \"text-align: right;\">52.3</td><td style = \"text-align: left;\">Right Foot</td><td style = \"text-align: left;\">Off T</td><td style = \"text-align: left;\">Open Play</td></tr><tr><td class = \"rowNumber\" style = \"font-weight: bold; text-align: right;\">31193</td><td style = \"text-align: right;\">103.5</td><td style = \"text-align: right;\">46.2</td><td style = \"text-align: left;\">Right Foot</td><td style = \"text-align: left;\">Blocked</td><td style = \"text-align: left;\">Open Play</td></tr><tr><td class = \"rowNumber\" style = \"font-weight: bold; text-align: right;\">31194</td><td style = \"text-align: right;\">104.1</td><td style = \"text-align: right;\">51.2</td><td style = \"text-align: left;\">Right Foot</td><td style = \"text-align: left;\">Off T</td><td style = \"text-align: left;\">Open Play</td></tr><tr><td class = \"rowNumber\" style = \"font-weight: bold; text-align: right;\">31195</td><td style = \"text-align: right;\">106.9</td><td style = \"text-align: right;\">59.6</td><td style = \"text-align: left;\">Left Foot</td><td style = \"text-align: left;\">Off T</td><td style = \"text-align: left;\">Open Play</td></tr></tbody></table></div>"
      ],
      "text/latex": [
       "\\begin{tabular}{r|ccccc}\n",
       "\t& location\\_x & location\\_y & body\\_part & outcome & type\\\\\n",
       "\t\\hline\n",
       "\t& Float64 & Float64 & String15 & String31 & String15\\\\\n",
       "\t\\hline\n",
       "\t1 & 111.5 & 52.9 & Right Foot & Off T & Open Play \\\\\n",
       "\t2 & 113.9 & 26.4 & Left Foot & Off T & Open Play \\\\\n",
       "\t3 & 93.7 & 34.7 & Left Foot & Saved & Open Play \\\\\n",
       "\t4 & 109.2 & 39.1 & Head & Off T & Open Play \\\\\n",
       "\t5 & 107.8 & 24.7 & Right Foot & Off T & Open Play \\\\\n",
       "\t6 & 108.6 & 27.8 & Left Foot & Wayward & Open Play \\\\\n",
       "\t7 & 112.5 & 41.7 & Head & Off T & Open Play \\\\\n",
       "\t8 & 112.4 & 41.0 & Head & Off T & Open Play \\\\\n",
       "\t9 & 102.5 & 30.1 & Right Foot & Saved & Open Play \\\\\n",
       "\t10 & 110.0 & 27.7 & Right Foot & Wayward & Open Play \\\\\n",
       "\t11 & 106.1 & 32.6 & Right Foot & Off T & Open Play \\\\\n",
       "\t12 & 116.5 & 31.2 & Left Foot & Saved & Open Play \\\\\n",
       "\t13 & 105.6 & 23.9 & Left Foot & Blocked & Open Play \\\\\n",
       "\t14 & 110.3 & 25.3 & Right Foot & Blocked & Open Play \\\\\n",
       "\t15 & 94.9 & 26.3 & Right Foot & Blocked & Open Play \\\\\n",
       "\t16 & 106.7 & 26.5 & Left Foot & Blocked & Open Play \\\\\n",
       "\t17 & 100.0 & 57.4 & Left Foot & Off T & Open Play \\\\\n",
       "\t18 & 100.0 & 27.6 & Right Foot & Blocked & Open Play \\\\\n",
       "\t19 & 106.3 & 47.0 & Left Foot & Post & Open Play \\\\\n",
       "\t20 & 88.5 & 41.2 & Right Foot & Wayward & Open Play \\\\\n",
       "\t21 & 108.4 & 30.2 & Left Foot & Saved & Open Play \\\\\n",
       "\t22 & 114.5 & 32.8 & Right Foot & Off T & Open Play \\\\\n",
       "\t23 & 113.2 & 31.4 & Right Foot & Saved & Open Play \\\\\n",
       "\t24 & 105.3 & 33.4 & Right Foot & Goal & Open Play \\\\\n",
       "\t25 & 106.6 & 46.8 & Left Foot & Saved & Open Play \\\\\n",
       "\t26 & 111.5 & 36.2 & Left Foot & Goal & Open Play \\\\\n",
       "\t27 & 119.2 & 27.8 & Right Foot & Off T & Open Play \\\\\n",
       "\t28 & 105.7 & 21.6 & Left Foot & Saved & Open Play \\\\\n",
       "\t29 & 88.9 & 46.8 & Right Foot & Saved & Open Play \\\\\n",
       "\t30 & 92.0 & 28.6 & Right Foot & Off T & Open Play \\\\\n",
       "\t$\\dots$ & $\\dots$ & $\\dots$ & $\\dots$ & $\\dots$ & $\\dots$ \\\\\n",
       "\\end{tabular}\n"
      ],
      "text/plain": [
       "\u001b[1m31195×5 DataFrame\u001b[0m\n",
       "\u001b[1m   Row \u001b[0m│\u001b[1m location_x \u001b[0m\u001b[1m location_y \u001b[0m\u001b[1m body_part  \u001b[0m\u001b[1m outcome  \u001b[0m\u001b[1m type      \u001b[0m\n",
       "       │\u001b[90m Float64    \u001b[0m\u001b[90m Float64    \u001b[0m\u001b[90m String15   \u001b[0m\u001b[90m String31 \u001b[0m\u001b[90m String15  \u001b[0m\n",
       "───────┼─────────────────────────────────────────────────────────\n",
       "     1 │      111.5        52.9  Right Foot  Off T     Open Play\n",
       "     2 │      113.9        26.4  Left Foot   Off T     Open Play\n",
       "     3 │       93.7        34.7  Left Foot   Saved     Open Play\n",
       "     4 │      109.2        39.1  Head        Off T     Open Play\n",
       "     5 │      107.8        24.7  Right Foot  Off T     Open Play\n",
       "     6 │      108.6        27.8  Left Foot   Wayward   Open Play\n",
       "     7 │      112.5        41.7  Head        Off T     Open Play\n",
       "     8 │      112.4        41.0  Head        Off T     Open Play\n",
       "     9 │      102.5        30.1  Right Foot  Saved     Open Play\n",
       "    10 │      110.0        27.7  Right Foot  Wayward   Open Play\n",
       "    11 │      106.1        32.6  Right Foot  Off T     Open Play\n",
       "   ⋮   │     ⋮           ⋮           ⋮          ⋮          ⋮\n",
       " 31186 │      101.5        56.7  Left Foot   Off T     Open Play\n",
       " 31187 │      109.4        42.4  Right Foot  Saved     Open Play\n",
       " 31188 │      109.3        50.4  Right Foot  Off T     Open Play\n",
       " 31189 │      110.5        33.3  Head        Off T     Open Play\n",
       " 31190 │      110.2        36.3  Head        Saved     Open Play\n",
       " 31191 │      101.3        38.6  Right Foot  Wayward   Open Play\n",
       " 31192 │       92.6        52.3  Right Foot  Off T     Open Play\n",
       " 31193 │      103.5        46.2  Right Foot  Blocked   Open Play\n",
       " 31194 │      104.1        51.2  Right Foot  Off T     Open Play\n",
       " 31195 │      106.9        59.6  Left Foot   Off T     Open Play\n",
       "\u001b[36m                                               31174 rows omitted\u001b[0m"
      ]
     },
     "execution_count": 58,
     "metadata": {},
     "output_type": "execute_result"
    }
   ],
   "source": [
    "df = DataFrame(CSV.File(file_path))"
   ]
  },
  {
   "cell_type": "code",
   "execution_count": 59,
   "id": "57e0d8ae",
   "metadata": {},
   "outputs": [
    {
     "data": {
      "text/plain": [
       "2-element Vector{Vector{Float64}}:\n",
       " [120.0, 36.0]\n",
       " [120.0, 44.0]"
      ]
     },
     "execution_count": 59,
     "metadata": {},
     "output_type": "execute_result"
    }
   ],
   "source": [
    "goal_width = 8\n",
    "goal_post_center = [120.0, 40.0]\n",
    "goal_post_edges = [\n",
    "    [goal_post_center[1], goal_post_center[2] - goal_width / 2], \n",
    "    [goal_post_center[1], goal_post_center[2] + goal_width / 2]\n",
    "]"
   ]
  },
  {
   "cell_type": "code",
   "execution_count": 60,
   "id": "73237921",
   "metadata": {},
   "outputs": [
    {
     "data": {
      "text/plain": [
       "31195-element Vector{Float64}:\n",
       " 15.448624534242521\n",
       " 14.905368160498417\n",
       " 26.828715958837833\n",
       " 10.837435120913064\n",
       " 19.568597292601225\n",
       " 16.69730517179344\n",
       "  7.6902535718921525\n",
       "  7.665507158694714\n",
       " 20.106217943710845\n",
       " 15.852129194527782\n",
       " 15.74706321826391\n",
       "  9.470480452437458\n",
       " 21.600231480241135\n",
       "  ⋮\n",
       " 26.462237244798484\n",
       " 33.63406011768428\n",
       " 24.922680433693326\n",
       " 10.868302535354815\n",
       " 14.921461054467825\n",
       " 11.62497311824849\n",
       " 10.475208828467334\n",
       " 18.752333188166215\n",
       " 30.034147232774902\n",
       " 17.626400653565096\n",
       " 19.44865033877673\n",
       " 23.574774654278247"
      ]
     },
     "execution_count": 60,
     "metadata": {},
     "output_type": "execute_result"
    }
   ],
   "source": [
    "delta_x = df.location_x .- goal_post_center[1]\n",
    "delta_y = df.location_y .- goal_post_center[2]\n",
    "distance = .√((delta_x .* delta_x) .+ (delta_y .* delta_y))"
   ]
  },
  {
   "cell_type": "code",
   "execution_count": 61,
   "id": "f3b716cd",
   "metadata": {},
   "outputs": [
    {
     "data": {
      "text/plain": [
       "angle_subtended (generic function with 2 methods)"
      ]
     },
     "execution_count": 61,
     "metadata": {},
     "output_type": "execute_result"
    }
   ],
   "source": [
    "function angle_subtended(p_vec :: Vector{Float64}, l_vec :: Vector{Float64}, r_vec :: Vector{Float64}) :: Float64\n",
    "    # using a . b == ||a|| ||b|| cos(theta) <=> cos(theta) = (a . b) / (||a|| ||b||)\n",
    "    return rad2deg(acos(dot(l_vec, r_vec) / (nrm2(l_vec) * nrm2(r_vec))))\n",
    "end"
   ]
  },
  {
   "cell_type": "code",
   "execution_count": 62,
   "id": "61681503",
   "metadata": {},
   "outputs": [
    {
     "data": {
      "text/plain": [
       "31195-element Vector{Any}:\n",
       " 16.98258565406719\n",
       " 13.316705918518315\n",
       " 16.6444064594191\n",
       " 40.41941129511731\n",
       " 14.895257080503281\n",
       " 19.138408720284705\n",
       " 54.28386495368449\n",
       " 54.88168326501548\n",
       " 19.82844769298744\n",
       " 18.778338811577775\n",
       " 25.61177021289632\n",
       " 20.805296281122256\n",
       " 14.341920848310371\n",
       "  ⋮\n",
       " 14.863643327346175\n",
       " 13.31781023674157\n",
       " 13.743137612784043\n",
       " 39.70609167690597\n",
       " 22.500654904068533\n",
       " 32.53400635634941\n",
       " 39.91063144744059\n",
       " 24.022646156907438\n",
       " 13.895417381608052\n",
       " 24.12895958909258\n",
       " 19.34814908062756\n",
       " 10.98765796968888"
      ]
     },
     "execution_count": 62,
     "metadata": {},
     "output_type": "execute_result"
    }
   ],
   "source": [
    "angle_subtended_vec = []\n",
    "for (x, y) in zip(df.location_x, df.location_y)\n",
    "    p_vec = [x, y]\n",
    "    l_vec = goal_post_edges[1] .- p_vec\n",
    "    r_vec = goal_post_edges[2] .- p_vec\n",
    "    push!(angle_subtended_vec, angle_subtended(p_vec, l_vec, r_vec))\n",
    "end\n",
    "\n",
    "angle_subtended_vec"
   ]
  },
  {
   "cell_type": "code",
   "execution_count": 63,
   "id": "4eab4ad7",
   "metadata": {},
   "outputs": [
    {
     "data": {
      "text/html": [
       "<div><div style = \"float: left;\"><span>31195×7 DataFrame</span></div><div style = \"float: right;\"><span style = \"font-style: italic;\">31170 rows omitted</span></div><div style = \"clear: both;\"></div></div><div class = \"data-frame\" style = \"overflow-x: scroll;\"><table class = \"data-frame\" style = \"margin-bottom: 6px;\"><thead><tr class = \"header\"><th class = \"rowNumber\" style = \"font-weight: bold; text-align: right;\">Row</th><th style = \"text-align: left;\">location_x</th><th style = \"text-align: left;\">location_y</th><th style = \"text-align: left;\">body_part</th><th style = \"text-align: left;\">outcome</th><th style = \"text-align: left;\">type</th><th style = \"text-align: left;\">distance</th><th style = \"text-align: left;\">degrees_subtended</th></tr><tr class = \"subheader headerLastRow\"><th class = \"rowNumber\" style = \"font-weight: bold; text-align: right;\"></th><th title = \"Float64\" style = \"text-align: left;\">Float64</th><th title = \"Float64\" style = \"text-align: left;\">Float64</th><th title = \"InlineStrings.String15\" style = \"text-align: left;\">String15</th><th title = \"InlineStrings.String31\" style = \"text-align: left;\">String31</th><th title = \"InlineStrings.String15\" style = \"text-align: left;\">String15</th><th title = \"Float64\" style = \"text-align: left;\">Float64</th><th title = \"Any\" style = \"text-align: left;\">Any</th></tr></thead><tbody><tr><td class = \"rowNumber\" style = \"font-weight: bold; text-align: right;\">1</td><td style = \"text-align: right;\">111.5</td><td style = \"text-align: right;\">52.9</td><td style = \"text-align: left;\">Right Foot</td><td style = \"text-align: left;\">Off T</td><td style = \"text-align: left;\">Open Play</td><td style = \"text-align: right;\">15.4486</td><td style = \"text-align: left;\">16.9826</td></tr><tr><td class = \"rowNumber\" style = \"font-weight: bold; text-align: right;\">2</td><td style = \"text-align: right;\">113.9</td><td style = \"text-align: right;\">26.4</td><td style = \"text-align: left;\">Left Foot</td><td style = \"text-align: left;\">Off T</td><td style = \"text-align: left;\">Open Play</td><td style = \"text-align: right;\">14.9054</td><td style = \"text-align: left;\">13.3167</td></tr><tr><td class = \"rowNumber\" style = \"font-weight: bold; text-align: right;\">3</td><td style = \"text-align: right;\">93.7</td><td style = \"text-align: right;\">34.7</td><td style = \"text-align: left;\">Left Foot</td><td style = \"text-align: left;\">Saved</td><td style = \"text-align: left;\">Open Play</td><td style = \"text-align: right;\">26.8287</td><td style = \"text-align: left;\">16.6444</td></tr><tr><td class = \"rowNumber\" style = \"font-weight: bold; text-align: right;\">4</td><td style = \"text-align: right;\">109.2</td><td style = \"text-align: right;\">39.1</td><td style = \"text-align: left;\">Head</td><td style = \"text-align: left;\">Off T</td><td style = \"text-align: left;\">Open Play</td><td style = \"text-align: right;\">10.8374</td><td style = \"text-align: left;\">40.4194</td></tr><tr><td class = \"rowNumber\" style = \"font-weight: bold; text-align: right;\">5</td><td style = \"text-align: right;\">107.8</td><td style = \"text-align: right;\">24.7</td><td style = \"text-align: left;\">Right Foot</td><td style = \"text-align: left;\">Off T</td><td style = \"text-align: left;\">Open Play</td><td style = \"text-align: right;\">19.5686</td><td style = \"text-align: left;\">14.8953</td></tr><tr><td class = \"rowNumber\" style = \"font-weight: bold; text-align: right;\">6</td><td style = \"text-align: right;\">108.6</td><td style = \"text-align: right;\">27.8</td><td style = \"text-align: left;\">Left Foot</td><td style = \"text-align: left;\">Wayward</td><td style = \"text-align: left;\">Open Play</td><td style = \"text-align: right;\">16.6973</td><td style = \"text-align: left;\">19.1384</td></tr><tr><td class = \"rowNumber\" style = \"font-weight: bold; text-align: right;\">7</td><td style = \"text-align: right;\">112.5</td><td style = \"text-align: right;\">41.7</td><td style = \"text-align: left;\">Head</td><td style = \"text-align: left;\">Off T</td><td style = \"text-align: left;\">Open Play</td><td style = \"text-align: right;\">7.69025</td><td style = \"text-align: left;\">54.2839</td></tr><tr><td class = \"rowNumber\" style = \"font-weight: bold; text-align: right;\">8</td><td style = \"text-align: right;\">112.4</td><td style = \"text-align: right;\">41.0</td><td style = \"text-align: left;\">Head</td><td style = \"text-align: left;\">Off T</td><td style = \"text-align: left;\">Open Play</td><td style = \"text-align: right;\">7.66551</td><td style = \"text-align: left;\">54.8817</td></tr><tr><td class = \"rowNumber\" style = \"font-weight: bold; text-align: right;\">9</td><td style = \"text-align: right;\">102.5</td><td style = \"text-align: right;\">30.1</td><td style = \"text-align: left;\">Right Foot</td><td style = \"text-align: left;\">Saved</td><td style = \"text-align: left;\">Open Play</td><td style = \"text-align: right;\">20.1062</td><td style = \"text-align: left;\">19.8284</td></tr><tr><td class = \"rowNumber\" style = \"font-weight: bold; text-align: right;\">10</td><td style = \"text-align: right;\">110.0</td><td style = \"text-align: right;\">27.7</td><td style = \"text-align: left;\">Right Foot</td><td style = \"text-align: left;\">Wayward</td><td style = \"text-align: left;\">Open Play</td><td style = \"text-align: right;\">15.8521</td><td style = \"text-align: left;\">18.7783</td></tr><tr><td class = \"rowNumber\" style = \"font-weight: bold; text-align: right;\">11</td><td style = \"text-align: right;\">106.1</td><td style = \"text-align: right;\">32.6</td><td style = \"text-align: left;\">Right Foot</td><td style = \"text-align: left;\">Off T</td><td style = \"text-align: left;\">Open Play</td><td style = \"text-align: right;\">15.7471</td><td style = \"text-align: left;\">25.6118</td></tr><tr><td class = \"rowNumber\" style = \"font-weight: bold; text-align: right;\">12</td><td style = \"text-align: right;\">116.5</td><td style = \"text-align: right;\">31.2</td><td style = \"text-align: left;\">Left Foot</td><td style = \"text-align: left;\">Saved</td><td style = \"text-align: left;\">Open Play</td><td style = \"text-align: right;\">9.47048</td><td style = \"text-align: left;\">20.8053</td></tr><tr><td class = \"rowNumber\" style = \"font-weight: bold; text-align: right;\">13</td><td style = \"text-align: right;\">105.6</td><td style = \"text-align: right;\">23.9</td><td style = \"text-align: left;\">Left Foot</td><td style = \"text-align: left;\">Blocked</td><td style = \"text-align: left;\">Open Play</td><td style = \"text-align: right;\">21.6002</td><td style = \"text-align: left;\">14.3419</td></tr><tr><td style = \"text-align: right;\">&vellip;</td><td style = \"text-align: right;\">&vellip;</td><td style = \"text-align: right;\">&vellip;</td><td style = \"text-align: right;\">&vellip;</td><td style = \"text-align: right;\">&vellip;</td><td style = \"text-align: right;\">&vellip;</td><td style = \"text-align: right;\">&vellip;</td><td style = \"text-align: right;\">&vellip;</td></tr><tr><td class = \"rowNumber\" style = \"font-weight: bold; text-align: right;\">31184</td><td style = \"text-align: right;\">97.3</td><td style = \"text-align: right;\">26.4</td><td style = \"text-align: left;\">Right Foot</td><td style = \"text-align: left;\">Goal</td><td style = \"text-align: left;\">Open Play</td><td style = \"text-align: right;\">26.4622</td><td style = \"text-align: left;\">14.8636</td></tr><tr><td class = \"rowNumber\" style = \"font-weight: bold; text-align: right;\">31185</td><td style = \"text-align: right;\">87.0</td><td style = \"text-align: right;\">46.5</td><td style = \"text-align: left;\">Left Foot</td><td style = \"text-align: left;\">Off T</td><td style = \"text-align: left;\">Open Play</td><td style = \"text-align: right;\">33.6341</td><td style = \"text-align: left;\">13.3178</td></tr><tr><td class = \"rowNumber\" style = \"font-weight: bold; text-align: right;\">31186</td><td style = \"text-align: right;\">101.5</td><td style = \"text-align: right;\">56.7</td><td style = \"text-align: left;\">Left Foot</td><td style = \"text-align: left;\">Off T</td><td style = \"text-align: left;\">Open Play</td><td style = \"text-align: right;\">24.9227</td><td style = \"text-align: left;\">13.7431</td></tr><tr><td class = \"rowNumber\" style = \"font-weight: bold; text-align: right;\">31187</td><td style = \"text-align: right;\">109.4</td><td style = \"text-align: right;\">42.4</td><td style = \"text-align: left;\">Right Foot</td><td style = \"text-align: left;\">Saved</td><td style = \"text-align: left;\">Open Play</td><td style = \"text-align: right;\">10.8683</td><td style = \"text-align: left;\">39.7061</td></tr><tr><td class = \"rowNumber\" style = \"font-weight: bold; text-align: right;\">31188</td><td style = \"text-align: right;\">109.3</td><td style = \"text-align: right;\">50.4</td><td style = \"text-align: left;\">Right Foot</td><td style = \"text-align: left;\">Off T</td><td style = \"text-align: left;\">Open Play</td><td style = \"text-align: right;\">14.9215</td><td style = \"text-align: left;\">22.5007</td></tr><tr><td class = \"rowNumber\" style = \"font-weight: bold; text-align: right;\">31189</td><td style = \"text-align: right;\">110.5</td><td style = \"text-align: right;\">33.3</td><td style = \"text-align: left;\">Head</td><td style = \"text-align: left;\">Off T</td><td style = \"text-align: left;\">Open Play</td><td style = \"text-align: right;\">11.625</td><td style = \"text-align: left;\">32.534</td></tr><tr><td class = \"rowNumber\" style = \"font-weight: bold; text-align: right;\">31190</td><td style = \"text-align: right;\">110.2</td><td style = \"text-align: right;\">36.3</td><td style = \"text-align: left;\">Head</td><td style = \"text-align: left;\">Saved</td><td style = \"text-align: left;\">Open Play</td><td style = \"text-align: right;\">10.4752</td><td style = \"text-align: left;\">39.9106</td></tr><tr><td class = \"rowNumber\" style = \"font-weight: bold; text-align: right;\">31191</td><td style = \"text-align: right;\">101.3</td><td style = \"text-align: right;\">38.6</td><td style = \"text-align: left;\">Right Foot</td><td style = \"text-align: left;\">Wayward</td><td style = \"text-align: left;\">Open Play</td><td style = \"text-align: right;\">18.7523</td><td style = \"text-align: left;\">24.0226</td></tr><tr><td class = \"rowNumber\" style = \"font-weight: bold; text-align: right;\">31192</td><td style = \"text-align: right;\">92.6</td><td style = \"text-align: right;\">52.3</td><td style = \"text-align: left;\">Right Foot</td><td style = \"text-align: left;\">Off T</td><td style = \"text-align: left;\">Open Play</td><td style = \"text-align: right;\">30.0341</td><td style = \"text-align: left;\">13.8954</td></tr><tr><td class = \"rowNumber\" style = \"font-weight: bold; text-align: right;\">31193</td><td style = \"text-align: right;\">103.5</td><td style = \"text-align: right;\">46.2</td><td style = \"text-align: left;\">Right Foot</td><td style = \"text-align: left;\">Blocked</td><td style = \"text-align: left;\">Open Play</td><td style = \"text-align: right;\">17.6264</td><td style = \"text-align: left;\">24.129</td></tr><tr><td class = \"rowNumber\" style = \"font-weight: bold; text-align: right;\">31194</td><td style = \"text-align: right;\">104.1</td><td style = \"text-align: right;\">51.2</td><td style = \"text-align: left;\">Right Foot</td><td style = \"text-align: left;\">Off T</td><td style = \"text-align: left;\">Open Play</td><td style = \"text-align: right;\">19.4487</td><td style = \"text-align: left;\">19.3481</td></tr><tr><td class = \"rowNumber\" style = \"font-weight: bold; text-align: right;\">31195</td><td style = \"text-align: right;\">106.9</td><td style = \"text-align: right;\">59.6</td><td style = \"text-align: left;\">Left Foot</td><td style = \"text-align: left;\">Off T</td><td style = \"text-align: left;\">Open Play</td><td style = \"text-align: right;\">23.5748</td><td style = \"text-align: left;\">10.9877</td></tr></tbody></table></div>"
      ],
      "text/latex": [
       "\\begin{tabular}{r|ccccccc}\n",
       "\t& location\\_x & location\\_y & body\\_part & outcome & type & distance & degrees\\_subtended\\\\\n",
       "\t\\hline\n",
       "\t& Float64 & Float64 & String15 & String31 & String15 & Float64 & Any\\\\\n",
       "\t\\hline\n",
       "\t1 & 111.5 & 52.9 & Right Foot & Off T & Open Play & 15.4486 & 16.9826 \\\\\n",
       "\t2 & 113.9 & 26.4 & Left Foot & Off T & Open Play & 14.9054 & 13.3167 \\\\\n",
       "\t3 & 93.7 & 34.7 & Left Foot & Saved & Open Play & 26.8287 & 16.6444 \\\\\n",
       "\t4 & 109.2 & 39.1 & Head & Off T & Open Play & 10.8374 & 40.4194 \\\\\n",
       "\t5 & 107.8 & 24.7 & Right Foot & Off T & Open Play & 19.5686 & 14.8953 \\\\\n",
       "\t6 & 108.6 & 27.8 & Left Foot & Wayward & Open Play & 16.6973 & 19.1384 \\\\\n",
       "\t7 & 112.5 & 41.7 & Head & Off T & Open Play & 7.69025 & 54.2839 \\\\\n",
       "\t8 & 112.4 & 41.0 & Head & Off T & Open Play & 7.66551 & 54.8817 \\\\\n",
       "\t9 & 102.5 & 30.1 & Right Foot & Saved & Open Play & 20.1062 & 19.8284 \\\\\n",
       "\t10 & 110.0 & 27.7 & Right Foot & Wayward & Open Play & 15.8521 & 18.7783 \\\\\n",
       "\t11 & 106.1 & 32.6 & Right Foot & Off T & Open Play & 15.7471 & 25.6118 \\\\\n",
       "\t12 & 116.5 & 31.2 & Left Foot & Saved & Open Play & 9.47048 & 20.8053 \\\\\n",
       "\t13 & 105.6 & 23.9 & Left Foot & Blocked & Open Play & 21.6002 & 14.3419 \\\\\n",
       "\t14 & 110.3 & 25.3 & Right Foot & Blocked & Open Play & 17.6119 & 14.7771 \\\\\n",
       "\t15 & 94.9 & 26.3 & Right Foot & Blocked & Open Play & 28.5955 & 14.0615 \\\\\n",
       "\t16 & 106.7 & 26.5 & Left Foot & Blocked & Open Play & 18.951 & 17.2275 \\\\\n",
       "\t17 & 100.0 & 57.4 & Left Foot & Off T & Open Play & 26.5096 & 13.1147 \\\\\n",
       "\t18 & 100.0 & 27.6 & Right Foot & Blocked & Open Play & 23.5321 & 16.5693 \\\\\n",
       "\t19 & 106.3 & 47.0 & Left Foot & Post & Open Play & 15.3847 & 26.4101 \\\\\n",
       "\t20 & 88.5 & 41.2 & Right Foot & Wayward & Open Play & 31.5228 & 14.4534 \\\\\n",
       "\t21 & 108.4 & 30.2 & Left Foot & Saved & Open Play & 15.1855 & 23.3852 \\\\\n",
       "\t22 & 114.5 & 32.8 & Right Foot & Off T & Open Play & 9.06035 & 33.654 \\\\\n",
       "\t23 & 113.2 & 31.4 & Right Foot & Saved & Open Play & 10.9636 & 27.5678 \\\\\n",
       "\t24 & 105.3 & 33.4 & Right Foot & Goal & Open Play & 16.1137 & 25.7647 \\\\\n",
       "\t25 & 106.6 & 46.8 & Left Foot & Saved & Open Play & 15.0266 & 27.0653 \\\\\n",
       "\t26 & 111.5 & 36.2 & Left Foot & Goal & Open Play & 9.31075 & 43.8888 \\\\\n",
       "\t27 & 119.2 & 27.8 & Right Foot & Off T & Open Play & 12.2262 & 2.74507 \\\\\n",
       "\t28 & 105.7 & 21.6 & Left Foot & Saved & Open Play & 23.3034 & 12.2465 \\\\\n",
       "\t29 & 88.9 & 46.8 & Right Foot & Saved & Open Play & 31.8347 & 14.0058 \\\\\n",
       "\t30 & 92.0 & 28.6 & Right Foot & Off T & Open Play & 30.2318 & 14.0068 \\\\\n",
       "\t$\\dots$ & $\\dots$ & $\\dots$ & $\\dots$ & $\\dots$ & $\\dots$ & $\\dots$ & $\\dots$ \\\\\n",
       "\\end{tabular}\n"
      ],
      "text/plain": [
       "\u001b[1m31195×7 DataFrame\u001b[0m\n",
       "\u001b[1m   Row \u001b[0m│\u001b[1m location_x \u001b[0m\u001b[1m location_y \u001b[0m\u001b[1m body_part  \u001b[0m\u001b[1m outcome  \u001b[0m\u001b[1m type      \u001b[0m\u001b[1m distance \u001b[0m\u001b[1m de\u001b[0m ⋯\n",
       "       │\u001b[90m Float64    \u001b[0m\u001b[90m Float64    \u001b[0m\u001b[90m String15   \u001b[0m\u001b[90m String31 \u001b[0m\u001b[90m String15  \u001b[0m\u001b[90m Float64  \u001b[0m\u001b[90m An\u001b[0m ⋯\n",
       "───────┼────────────────────────────────────────────────────────────────────────\n",
       "     1 │      111.5        52.9  Right Foot  Off T     Open Play  15.4486   16 ⋯\n",
       "     2 │      113.9        26.4  Left Foot   Off T     Open Play  14.9054   13\n",
       "     3 │       93.7        34.7  Left Foot   Saved     Open Play  26.8287   16\n",
       "     4 │      109.2        39.1  Head        Off T     Open Play  10.8374   40\n",
       "     5 │      107.8        24.7  Right Foot  Off T     Open Play  19.5686   14 ⋯\n",
       "     6 │      108.6        27.8  Left Foot   Wayward   Open Play  16.6973   19\n",
       "     7 │      112.5        41.7  Head        Off T     Open Play   7.69025  54\n",
       "     8 │      112.4        41.0  Head        Off T     Open Play   7.66551  54\n",
       "     9 │      102.5        30.1  Right Foot  Saved     Open Play  20.1062   19 ⋯\n",
       "    10 │      110.0        27.7  Right Foot  Wayward   Open Play  15.8521   18\n",
       "    11 │      106.1        32.6  Right Foot  Off T     Open Play  15.7471   25\n",
       "   ⋮   │     ⋮           ⋮           ⋮          ⋮          ⋮         ⋮         ⋱\n",
       " 31186 │      101.5        56.7  Left Foot   Off T     Open Play  24.9227   13\n",
       " 31187 │      109.4        42.4  Right Foot  Saved     Open Play  10.8683   39 ⋯\n",
       " 31188 │      109.3        50.4  Right Foot  Off T     Open Play  14.9215   22\n",
       " 31189 │      110.5        33.3  Head        Off T     Open Play  11.625    32\n",
       " 31190 │      110.2        36.3  Head        Saved     Open Play  10.4752   39\n",
       " 31191 │      101.3        38.6  Right Foot  Wayward   Open Play  18.7523   24 ⋯\n",
       " 31192 │       92.6        52.3  Right Foot  Off T     Open Play  30.0341   13\n",
       " 31193 │      103.5        46.2  Right Foot  Blocked   Open Play  17.6264   24\n",
       " 31194 │      104.1        51.2  Right Foot  Off T     Open Play  19.4487   19\n",
       " 31195 │      106.9        59.6  Left Foot   Off T     Open Play  23.5748   10 ⋯\n",
       "\u001b[36m                                                 1 column and 31174 rows omitted\u001b[0m"
      ]
     },
     "execution_count": 63,
     "metadata": {},
     "output_type": "execute_result"
    }
   ],
   "source": [
    "insertcols!(df, :distance => distance, :degrees_subtended => angle_subtended_vec)"
   ]
  },
  {
   "cell_type": "code",
   "execution_count": 64,
   "id": "4f4863fd",
   "metadata": {},
   "outputs": [
    {
     "data": {
      "text/plain": [
       "\"../data/shot_data_aug.csv\""
      ]
     },
     "execution_count": 64,
     "metadata": {},
     "output_type": "execute_result"
    }
   ],
   "source": [
    "CSV.write(output_file_path, df)"
   ]
  }
 ],
 "metadata": {
  "kernelspec": {
   "display_name": "Julia 1.8.5",
   "language": "julia",
   "name": "julia-1.8"
  },
  "language_info": {
   "file_extension": ".jl",
   "mimetype": "application/julia",
   "name": "julia",
   "version": "1.8.5"
  }
 },
 "nbformat": 4,
 "nbformat_minor": 5
}
