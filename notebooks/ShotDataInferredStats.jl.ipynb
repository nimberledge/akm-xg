{
 "cells": [
  {
   "cell_type": "code",
   "execution_count": 1,
   "id": "998848e0-be7b-44eb-81c7-bb5a6c260726",
   "metadata": {},
   "outputs": [
    {
     "data": {
      "text/plain": [
       "10"
      ]
     },
     "execution_count": 1,
     "metadata": {},
     "output_type": "execute_result"
    }
   ],
   "source": [
    "using Base.Math\n",
    "using DataFrames\n",
    "using LinearAlgebra\n",
    "using LinearAlgebra.BLAS\n",
    "import CSV\n",
    "\n",
    "include(\"../data-visualization/GeometryConstants.jl\")"
   ]
  },
  {
   "cell_type": "code",
   "execution_count": 2,
   "id": "7a558e51",
   "metadata": {},
   "outputs": [
    {
     "data": {
      "text/plain": [
       "\"../data/shot_data_aug_v0.1.csv\""
      ]
     },
     "execution_count": 2,
     "metadata": {},
     "output_type": "execute_result"
    }
   ],
   "source": [
    "input_file_path = \"../data/shot_data_v0.1.csv\"\n",
    "output_file_path = \"../data/shot_data_aug_v0.1.csv\""
   ]
  },
  {
   "cell_type": "code",
   "execution_count": 3,
   "id": "39d9cd51",
   "metadata": {},
   "outputs": [
    {
     "data": {
      "text/html": [
       "<div><div style = \"float: left;\"><span>33524×5 DataFrame</span></div><div style = \"float: right;\"><span style = \"font-style: italic;\">33499 rows omitted</span></div><div style = \"clear: both;\"></div></div><div class = \"data-frame\" style = \"overflow-x: scroll;\"><table class = \"data-frame\" style = \"margin-bottom: 6px;\"><thead><tr class = \"header\"><th class = \"rowNumber\" style = \"font-weight: bold; text-align: right;\">Row</th><th style = \"text-align: left;\">location_x</th><th style = \"text-align: left;\">location_y</th><th style = \"text-align: left;\">body_part</th><th style = \"text-align: left;\">outcome</th><th style = \"text-align: left;\">shot_type</th></tr><tr class = \"subheader headerLastRow\"><th class = \"rowNumber\" style = \"font-weight: bold; text-align: right;\"></th><th title = \"Float64\" style = \"text-align: left;\">Float64</th><th title = \"Float64\" style = \"text-align: left;\">Float64</th><th title = \"InlineStrings.String15\" style = \"text-align: left;\">String15</th><th title = \"InlineStrings.String31\" style = \"text-align: left;\">String31</th><th title = \"InlineStrings.String15\" style = \"text-align: left;\">String15</th></tr></thead><tbody><tr><td class = \"rowNumber\" style = \"font-weight: bold; text-align: right;\">1</td><td style = \"text-align: right;\">111.5</td><td style = \"text-align: right;\">52.9</td><td style = \"text-align: left;\">Right Foot</td><td style = \"text-align: left;\">Off T</td><td style = \"text-align: left;\">Open Play</td></tr><tr><td class = \"rowNumber\" style = \"font-weight: bold; text-align: right;\">2</td><td style = \"text-align: right;\">113.9</td><td style = \"text-align: right;\">26.4</td><td style = \"text-align: left;\">Left Foot</td><td style = \"text-align: left;\">Off T</td><td style = \"text-align: left;\">Open Play</td></tr><tr><td class = \"rowNumber\" style = \"font-weight: bold; text-align: right;\">3</td><td style = \"text-align: right;\">93.7</td><td style = \"text-align: right;\">34.7</td><td style = \"text-align: left;\">Left Foot</td><td style = \"text-align: left;\">Saved</td><td style = \"text-align: left;\">Open Play</td></tr><tr><td class = \"rowNumber\" style = \"font-weight: bold; text-align: right;\">4</td><td style = \"text-align: right;\">109.2</td><td style = \"text-align: right;\">39.1</td><td style = \"text-align: left;\">Head</td><td style = \"text-align: left;\">Off T</td><td style = \"text-align: left;\">Open Play</td></tr><tr><td class = \"rowNumber\" style = \"font-weight: bold; text-align: right;\">5</td><td style = \"text-align: right;\">107.8</td><td style = \"text-align: right;\">24.7</td><td style = \"text-align: left;\">Right Foot</td><td style = \"text-align: left;\">Off T</td><td style = \"text-align: left;\">Open Play</td></tr><tr><td class = \"rowNumber\" style = \"font-weight: bold; text-align: right;\">6</td><td style = \"text-align: right;\">108.6</td><td style = \"text-align: right;\">27.8</td><td style = \"text-align: left;\">Left Foot</td><td style = \"text-align: left;\">Wayward</td><td style = \"text-align: left;\">Open Play</td></tr><tr><td class = \"rowNumber\" style = \"font-weight: bold; text-align: right;\">7</td><td style = \"text-align: right;\">112.5</td><td style = \"text-align: right;\">41.7</td><td style = \"text-align: left;\">Head</td><td style = \"text-align: left;\">Off T</td><td style = \"text-align: left;\">Open Play</td></tr><tr><td class = \"rowNumber\" style = \"font-weight: bold; text-align: right;\">8</td><td style = \"text-align: right;\">96.5</td><td style = \"text-align: right;\">52.6</td><td style = \"text-align: left;\">Left Foot</td><td style = \"text-align: left;\">Post</td><td style = \"text-align: left;\">Free Kick</td></tr><tr><td class = \"rowNumber\" style = \"font-weight: bold; text-align: right;\">9</td><td style = \"text-align: right;\">112.4</td><td style = \"text-align: right;\">41.0</td><td style = \"text-align: left;\">Head</td><td style = \"text-align: left;\">Off T</td><td style = \"text-align: left;\">Open Play</td></tr><tr><td class = \"rowNumber\" style = \"font-weight: bold; text-align: right;\">10</td><td style = \"text-align: right;\">102.5</td><td style = \"text-align: right;\">30.1</td><td style = \"text-align: left;\">Right Foot</td><td style = \"text-align: left;\">Saved</td><td style = \"text-align: left;\">Open Play</td></tr><tr><td class = \"rowNumber\" style = \"font-weight: bold; text-align: right;\">11</td><td style = \"text-align: right;\">110.0</td><td style = \"text-align: right;\">27.7</td><td style = \"text-align: left;\">Right Foot</td><td style = \"text-align: left;\">Wayward</td><td style = \"text-align: left;\">Open Play</td></tr><tr><td class = \"rowNumber\" style = \"font-weight: bold; text-align: right;\">12</td><td style = \"text-align: right;\">106.1</td><td style = \"text-align: right;\">32.6</td><td style = \"text-align: left;\">Right Foot</td><td style = \"text-align: left;\">Off T</td><td style = \"text-align: left;\">Open Play</td></tr><tr><td class = \"rowNumber\" style = \"font-weight: bold; text-align: right;\">13</td><td style = \"text-align: right;\">116.5</td><td style = \"text-align: right;\">31.2</td><td style = \"text-align: left;\">Left Foot</td><td style = \"text-align: left;\">Saved</td><td style = \"text-align: left;\">Open Play</td></tr><tr><td style = \"text-align: right;\">&vellip;</td><td style = \"text-align: right;\">&vellip;</td><td style = \"text-align: right;\">&vellip;</td><td style = \"text-align: right;\">&vellip;</td><td style = \"text-align: right;\">&vellip;</td><td style = \"text-align: right;\">&vellip;</td></tr><tr><td class = \"rowNumber\" style = \"font-weight: bold; text-align: right;\">33513</td><td style = \"text-align: right;\">97.3</td><td style = \"text-align: right;\">26.4</td><td style = \"text-align: left;\">Right Foot</td><td style = \"text-align: left;\">Goal</td><td style = \"text-align: left;\">Open Play</td></tr><tr><td class = \"rowNumber\" style = \"font-weight: bold; text-align: right;\">33514</td><td style = \"text-align: right;\">87.0</td><td style = \"text-align: right;\">46.5</td><td style = \"text-align: left;\">Left Foot</td><td style = \"text-align: left;\">Off T</td><td style = \"text-align: left;\">Open Play</td></tr><tr><td class = \"rowNumber\" style = \"font-weight: bold; text-align: right;\">33515</td><td style = \"text-align: right;\">101.5</td><td style = \"text-align: right;\">56.7</td><td style = \"text-align: left;\">Left Foot</td><td style = \"text-align: left;\">Off T</td><td style = \"text-align: left;\">Open Play</td></tr><tr><td class = \"rowNumber\" style = \"font-weight: bold; text-align: right;\">33516</td><td style = \"text-align: right;\">109.4</td><td style = \"text-align: right;\">42.4</td><td style = \"text-align: left;\">Right Foot</td><td style = \"text-align: left;\">Saved</td><td style = \"text-align: left;\">Open Play</td></tr><tr><td class = \"rowNumber\" style = \"font-weight: bold; text-align: right;\">33517</td><td style = \"text-align: right;\">109.3</td><td style = \"text-align: right;\">50.4</td><td style = \"text-align: left;\">Right Foot</td><td style = \"text-align: left;\">Off T</td><td style = \"text-align: left;\">Open Play</td></tr><tr><td class = \"rowNumber\" style = \"font-weight: bold; text-align: right;\">33518</td><td style = \"text-align: right;\">110.5</td><td style = \"text-align: right;\">33.3</td><td style = \"text-align: left;\">Head</td><td style = \"text-align: left;\">Off T</td><td style = \"text-align: left;\">Open Play</td></tr><tr><td class = \"rowNumber\" style = \"font-weight: bold; text-align: right;\">33519</td><td style = \"text-align: right;\">110.2</td><td style = \"text-align: right;\">36.3</td><td style = \"text-align: left;\">Head</td><td style = \"text-align: left;\">Saved</td><td style = \"text-align: left;\">Open Play</td></tr><tr><td class = \"rowNumber\" style = \"font-weight: bold; text-align: right;\">33520</td><td style = \"text-align: right;\">101.3</td><td style = \"text-align: right;\">38.6</td><td style = \"text-align: left;\">Right Foot</td><td style = \"text-align: left;\">Wayward</td><td style = \"text-align: left;\">Open Play</td></tr><tr><td class = \"rowNumber\" style = \"font-weight: bold; text-align: right;\">33521</td><td style = \"text-align: right;\">92.6</td><td style = \"text-align: right;\">52.3</td><td style = \"text-align: left;\">Right Foot</td><td style = \"text-align: left;\">Off T</td><td style = \"text-align: left;\">Open Play</td></tr><tr><td class = \"rowNumber\" style = \"font-weight: bold; text-align: right;\">33522</td><td style = \"text-align: right;\">103.5</td><td style = \"text-align: right;\">46.2</td><td style = \"text-align: left;\">Right Foot</td><td style = \"text-align: left;\">Blocked</td><td style = \"text-align: left;\">Open Play</td></tr><tr><td class = \"rowNumber\" style = \"font-weight: bold; text-align: right;\">33523</td><td style = \"text-align: right;\">104.1</td><td style = \"text-align: right;\">51.2</td><td style = \"text-align: left;\">Right Foot</td><td style = \"text-align: left;\">Off T</td><td style = \"text-align: left;\">Open Play</td></tr><tr><td class = \"rowNumber\" style = \"font-weight: bold; text-align: right;\">33524</td><td style = \"text-align: right;\">106.9</td><td style = \"text-align: right;\">59.6</td><td style = \"text-align: left;\">Left Foot</td><td style = \"text-align: left;\">Off T</td><td style = \"text-align: left;\">Open Play</td></tr></tbody></table></div>"
      ],
      "text/latex": [
       "\\begin{tabular}{r|ccccc}\n",
       "\t& location\\_x & location\\_y & body\\_part & outcome & shot\\_type\\\\\n",
       "\t\\hline\n",
       "\t& Float64 & Float64 & String15 & String31 & String15\\\\\n",
       "\t\\hline\n",
       "\t1 & 111.5 & 52.9 & Right Foot & Off T & Open Play \\\\\n",
       "\t2 & 113.9 & 26.4 & Left Foot & Off T & Open Play \\\\\n",
       "\t3 & 93.7 & 34.7 & Left Foot & Saved & Open Play \\\\\n",
       "\t4 & 109.2 & 39.1 & Head & Off T & Open Play \\\\\n",
       "\t5 & 107.8 & 24.7 & Right Foot & Off T & Open Play \\\\\n",
       "\t6 & 108.6 & 27.8 & Left Foot & Wayward & Open Play \\\\\n",
       "\t7 & 112.5 & 41.7 & Head & Off T & Open Play \\\\\n",
       "\t8 & 96.5 & 52.6 & Left Foot & Post & Free Kick \\\\\n",
       "\t9 & 112.4 & 41.0 & Head & Off T & Open Play \\\\\n",
       "\t10 & 102.5 & 30.1 & Right Foot & Saved & Open Play \\\\\n",
       "\t11 & 110.0 & 27.7 & Right Foot & Wayward & Open Play \\\\\n",
       "\t12 & 106.1 & 32.6 & Right Foot & Off T & Open Play \\\\\n",
       "\t13 & 116.5 & 31.2 & Left Foot & Saved & Open Play \\\\\n",
       "\t14 & 105.6 & 23.9 & Left Foot & Blocked & Open Play \\\\\n",
       "\t15 & 110.3 & 25.3 & Right Foot & Blocked & Open Play \\\\\n",
       "\t16 & 94.9 & 26.3 & Right Foot & Blocked & Open Play \\\\\n",
       "\t17 & 106.7 & 26.5 & Left Foot & Blocked & Open Play \\\\\n",
       "\t18 & 100.0 & 57.4 & Left Foot & Off T & Open Play \\\\\n",
       "\t19 & 100.0 & 27.6 & Right Foot & Blocked & Open Play \\\\\n",
       "\t20 & 97.8 & 45.4 & Left Foot & Goal & Free Kick \\\\\n",
       "\t21 & 106.3 & 47.0 & Left Foot & Post & Open Play \\\\\n",
       "\t22 & 88.5 & 41.2 & Right Foot & Wayward & Open Play \\\\\n",
       "\t23 & 108.4 & 30.2 & Left Foot & Saved & Open Play \\\\\n",
       "\t24 & 114.5 & 32.8 & Right Foot & Off T & Open Play \\\\\n",
       "\t25 & 113.2 & 31.4 & Right Foot & Saved & Open Play \\\\\n",
       "\t26 & 105.3 & 33.4 & Right Foot & Goal & Open Play \\\\\n",
       "\t27 & 106.6 & 46.8 & Left Foot & Saved & Open Play \\\\\n",
       "\t28 & 111.5 & 36.2 & Left Foot & Goal & Open Play \\\\\n",
       "\t29 & 119.2 & 27.8 & Right Foot & Off T & Open Play \\\\\n",
       "\t30 & 105.7 & 21.6 & Left Foot & Saved & Open Play \\\\\n",
       "\t$\\dots$ & $\\dots$ & $\\dots$ & $\\dots$ & $\\dots$ & $\\dots$ \\\\\n",
       "\\end{tabular}\n"
      ],
      "text/plain": [
       "\u001b[1m33524×5 DataFrame\u001b[0m\n",
       "\u001b[1m   Row \u001b[0m│\u001b[1m location_x \u001b[0m\u001b[1m location_y \u001b[0m\u001b[1m body_part  \u001b[0m\u001b[1m outcome  \u001b[0m\u001b[1m shot_type \u001b[0m\n",
       "       │\u001b[90m Float64    \u001b[0m\u001b[90m Float64    \u001b[0m\u001b[90m String15   \u001b[0m\u001b[90m String31 \u001b[0m\u001b[90m String15  \u001b[0m\n",
       "───────┼─────────────────────────────────────────────────────────\n",
       "     1 │      111.5        52.9  Right Foot  Off T     Open Play\n",
       "     2 │      113.9        26.4  Left Foot   Off T     Open Play\n",
       "     3 │       93.7        34.7  Left Foot   Saved     Open Play\n",
       "     4 │      109.2        39.1  Head        Off T     Open Play\n",
       "     5 │      107.8        24.7  Right Foot  Off T     Open Play\n",
       "     6 │      108.6        27.8  Left Foot   Wayward   Open Play\n",
       "     7 │      112.5        41.7  Head        Off T     Open Play\n",
       "     8 │       96.5        52.6  Left Foot   Post      Free Kick\n",
       "     9 │      112.4        41.0  Head        Off T     Open Play\n",
       "    10 │      102.5        30.1  Right Foot  Saved     Open Play\n",
       "    11 │      110.0        27.7  Right Foot  Wayward   Open Play\n",
       "   ⋮   │     ⋮           ⋮           ⋮          ⋮          ⋮\n",
       " 33515 │      101.5        56.7  Left Foot   Off T     Open Play\n",
       " 33516 │      109.4        42.4  Right Foot  Saved     Open Play\n",
       " 33517 │      109.3        50.4  Right Foot  Off T     Open Play\n",
       " 33518 │      110.5        33.3  Head        Off T     Open Play\n",
       " 33519 │      110.2        36.3  Head        Saved     Open Play\n",
       " 33520 │      101.3        38.6  Right Foot  Wayward   Open Play\n",
       " 33521 │       92.6        52.3  Right Foot  Off T     Open Play\n",
       " 33522 │      103.5        46.2  Right Foot  Blocked   Open Play\n",
       " 33523 │      104.1        51.2  Right Foot  Off T     Open Play\n",
       " 33524 │      106.9        59.6  Left Foot   Off T     Open Play\n",
       "\u001b[36m                                               33503 rows omitted\u001b[0m"
      ]
     },
     "execution_count": 3,
     "metadata": {},
     "output_type": "execute_result"
    }
   ],
   "source": [
    "sdf = DataFrame(CSV.File(input_file_path))"
   ]
  },
  {
   "cell_type": "code",
   "execution_count": 4,
   "id": "47802d22",
   "metadata": {},
   "outputs": [
    {
     "data": {
      "text/html": [
       "<div><div style = \"float: left;\"><span>31195×5 DataFrame</span></div><div style = \"float: right;\"><span style = \"font-style: italic;\">31170 rows omitted</span></div><div style = \"clear: both;\"></div></div><div class = \"data-frame\" style = \"overflow-x: scroll;\"><table class = \"data-frame\" style = \"margin-bottom: 6px;\"><thead><tr class = \"header\"><th class = \"rowNumber\" style = \"font-weight: bold; text-align: right;\">Row</th><th style = \"text-align: left;\">location_x</th><th style = \"text-align: left;\">location_y</th><th style = \"text-align: left;\">body_part</th><th style = \"text-align: left;\">outcome</th><th style = \"text-align: left;\">shot_type</th></tr><tr class = \"subheader headerLastRow\"><th class = \"rowNumber\" style = \"font-weight: bold; text-align: right;\"></th><th title = \"Float64\" style = \"text-align: left;\">Float64</th><th title = \"Float64\" style = \"text-align: left;\">Float64</th><th title = \"InlineStrings.String15\" style = \"text-align: left;\">String15</th><th title = \"InlineStrings.String31\" style = \"text-align: left;\">String31</th><th title = \"InlineStrings.String15\" style = \"text-align: left;\">String15</th></tr></thead><tbody><tr><td class = \"rowNumber\" style = \"font-weight: bold; text-align: right;\">1</td><td style = \"text-align: right;\">111.5</td><td style = \"text-align: right;\">52.9</td><td style = \"text-align: left;\">Right Foot</td><td style = \"text-align: left;\">Off T</td><td style = \"text-align: left;\">Open Play</td></tr><tr><td class = \"rowNumber\" style = \"font-weight: bold; text-align: right;\">2</td><td style = \"text-align: right;\">113.9</td><td style = \"text-align: right;\">26.4</td><td style = \"text-align: left;\">Left Foot</td><td style = \"text-align: left;\">Off T</td><td style = \"text-align: left;\">Open Play</td></tr><tr><td class = \"rowNumber\" style = \"font-weight: bold; text-align: right;\">3</td><td style = \"text-align: right;\">93.7</td><td style = \"text-align: right;\">34.7</td><td style = \"text-align: left;\">Left Foot</td><td style = \"text-align: left;\">Saved</td><td style = \"text-align: left;\">Open Play</td></tr><tr><td class = \"rowNumber\" style = \"font-weight: bold; text-align: right;\">4</td><td style = \"text-align: right;\">109.2</td><td style = \"text-align: right;\">39.1</td><td style = \"text-align: left;\">Head</td><td style = \"text-align: left;\">Off T</td><td style = \"text-align: left;\">Open Play</td></tr><tr><td class = \"rowNumber\" style = \"font-weight: bold; text-align: right;\">5</td><td style = \"text-align: right;\">107.8</td><td style = \"text-align: right;\">24.7</td><td style = \"text-align: left;\">Right Foot</td><td style = \"text-align: left;\">Off T</td><td style = \"text-align: left;\">Open Play</td></tr><tr><td class = \"rowNumber\" style = \"font-weight: bold; text-align: right;\">6</td><td style = \"text-align: right;\">108.6</td><td style = \"text-align: right;\">27.8</td><td style = \"text-align: left;\">Left Foot</td><td style = \"text-align: left;\">Wayward</td><td style = \"text-align: left;\">Open Play</td></tr><tr><td class = \"rowNumber\" style = \"font-weight: bold; text-align: right;\">7</td><td style = \"text-align: right;\">112.5</td><td style = \"text-align: right;\">41.7</td><td style = \"text-align: left;\">Head</td><td style = \"text-align: left;\">Off T</td><td style = \"text-align: left;\">Open Play</td></tr><tr><td class = \"rowNumber\" style = \"font-weight: bold; text-align: right;\">8</td><td style = \"text-align: right;\">112.4</td><td style = \"text-align: right;\">41.0</td><td style = \"text-align: left;\">Head</td><td style = \"text-align: left;\">Off T</td><td style = \"text-align: left;\">Open Play</td></tr><tr><td class = \"rowNumber\" style = \"font-weight: bold; text-align: right;\">9</td><td style = \"text-align: right;\">102.5</td><td style = \"text-align: right;\">30.1</td><td style = \"text-align: left;\">Right Foot</td><td style = \"text-align: left;\">Saved</td><td style = \"text-align: left;\">Open Play</td></tr><tr><td class = \"rowNumber\" style = \"font-weight: bold; text-align: right;\">10</td><td style = \"text-align: right;\">110.0</td><td style = \"text-align: right;\">27.7</td><td style = \"text-align: left;\">Right Foot</td><td style = \"text-align: left;\">Wayward</td><td style = \"text-align: left;\">Open Play</td></tr><tr><td class = \"rowNumber\" style = \"font-weight: bold; text-align: right;\">11</td><td style = \"text-align: right;\">106.1</td><td style = \"text-align: right;\">32.6</td><td style = \"text-align: left;\">Right Foot</td><td style = \"text-align: left;\">Off T</td><td style = \"text-align: left;\">Open Play</td></tr><tr><td class = \"rowNumber\" style = \"font-weight: bold; text-align: right;\">12</td><td style = \"text-align: right;\">116.5</td><td style = \"text-align: right;\">31.2</td><td style = \"text-align: left;\">Left Foot</td><td style = \"text-align: left;\">Saved</td><td style = \"text-align: left;\">Open Play</td></tr><tr><td class = \"rowNumber\" style = \"font-weight: bold; text-align: right;\">13</td><td style = \"text-align: right;\">105.6</td><td style = \"text-align: right;\">23.9</td><td style = \"text-align: left;\">Left Foot</td><td style = \"text-align: left;\">Blocked</td><td style = \"text-align: left;\">Open Play</td></tr><tr><td style = \"text-align: right;\">&vellip;</td><td style = \"text-align: right;\">&vellip;</td><td style = \"text-align: right;\">&vellip;</td><td style = \"text-align: right;\">&vellip;</td><td style = \"text-align: right;\">&vellip;</td><td style = \"text-align: right;\">&vellip;</td></tr><tr><td class = \"rowNumber\" style = \"font-weight: bold; text-align: right;\">31184</td><td style = \"text-align: right;\">97.3</td><td style = \"text-align: right;\">26.4</td><td style = \"text-align: left;\">Right Foot</td><td style = \"text-align: left;\">Goal</td><td style = \"text-align: left;\">Open Play</td></tr><tr><td class = \"rowNumber\" style = \"font-weight: bold; text-align: right;\">31185</td><td style = \"text-align: right;\">87.0</td><td style = \"text-align: right;\">46.5</td><td style = \"text-align: left;\">Left Foot</td><td style = \"text-align: left;\">Off T</td><td style = \"text-align: left;\">Open Play</td></tr><tr><td class = \"rowNumber\" style = \"font-weight: bold; text-align: right;\">31186</td><td style = \"text-align: right;\">101.5</td><td style = \"text-align: right;\">56.7</td><td style = \"text-align: left;\">Left Foot</td><td style = \"text-align: left;\">Off T</td><td style = \"text-align: left;\">Open Play</td></tr><tr><td class = \"rowNumber\" style = \"font-weight: bold; text-align: right;\">31187</td><td style = \"text-align: right;\">109.4</td><td style = \"text-align: right;\">42.4</td><td style = \"text-align: left;\">Right Foot</td><td style = \"text-align: left;\">Saved</td><td style = \"text-align: left;\">Open Play</td></tr><tr><td class = \"rowNumber\" style = \"font-weight: bold; text-align: right;\">31188</td><td style = \"text-align: right;\">109.3</td><td style = \"text-align: right;\">50.4</td><td style = \"text-align: left;\">Right Foot</td><td style = \"text-align: left;\">Off T</td><td style = \"text-align: left;\">Open Play</td></tr><tr><td class = \"rowNumber\" style = \"font-weight: bold; text-align: right;\">31189</td><td style = \"text-align: right;\">110.5</td><td style = \"text-align: right;\">33.3</td><td style = \"text-align: left;\">Head</td><td style = \"text-align: left;\">Off T</td><td style = \"text-align: left;\">Open Play</td></tr><tr><td class = \"rowNumber\" style = \"font-weight: bold; text-align: right;\">31190</td><td style = \"text-align: right;\">110.2</td><td style = \"text-align: right;\">36.3</td><td style = \"text-align: left;\">Head</td><td style = \"text-align: left;\">Saved</td><td style = \"text-align: left;\">Open Play</td></tr><tr><td class = \"rowNumber\" style = \"font-weight: bold; text-align: right;\">31191</td><td style = \"text-align: right;\">101.3</td><td style = \"text-align: right;\">38.6</td><td style = \"text-align: left;\">Right Foot</td><td style = \"text-align: left;\">Wayward</td><td style = \"text-align: left;\">Open Play</td></tr><tr><td class = \"rowNumber\" style = \"font-weight: bold; text-align: right;\">31192</td><td style = \"text-align: right;\">92.6</td><td style = \"text-align: right;\">52.3</td><td style = \"text-align: left;\">Right Foot</td><td style = \"text-align: left;\">Off T</td><td style = \"text-align: left;\">Open Play</td></tr><tr><td class = \"rowNumber\" style = \"font-weight: bold; text-align: right;\">31193</td><td style = \"text-align: right;\">103.5</td><td style = \"text-align: right;\">46.2</td><td style = \"text-align: left;\">Right Foot</td><td style = \"text-align: left;\">Blocked</td><td style = \"text-align: left;\">Open Play</td></tr><tr><td class = \"rowNumber\" style = \"font-weight: bold; text-align: right;\">31194</td><td style = \"text-align: right;\">104.1</td><td style = \"text-align: right;\">51.2</td><td style = \"text-align: left;\">Right Foot</td><td style = \"text-align: left;\">Off T</td><td style = \"text-align: left;\">Open Play</td></tr><tr><td class = \"rowNumber\" style = \"font-weight: bold; text-align: right;\">31195</td><td style = \"text-align: right;\">106.9</td><td style = \"text-align: right;\">59.6</td><td style = \"text-align: left;\">Left Foot</td><td style = \"text-align: left;\">Off T</td><td style = \"text-align: left;\">Open Play</td></tr></tbody></table></div>"
      ],
      "text/latex": [
       "\\begin{tabular}{r|ccccc}\n",
       "\t& location\\_x & location\\_y & body\\_part & outcome & shot\\_type\\\\\n",
       "\t\\hline\n",
       "\t& Float64 & Float64 & String15 & String31 & String15\\\\\n",
       "\t\\hline\n",
       "\t1 & 111.5 & 52.9 & Right Foot & Off T & Open Play \\\\\n",
       "\t2 & 113.9 & 26.4 & Left Foot & Off T & Open Play \\\\\n",
       "\t3 & 93.7 & 34.7 & Left Foot & Saved & Open Play \\\\\n",
       "\t4 & 109.2 & 39.1 & Head & Off T & Open Play \\\\\n",
       "\t5 & 107.8 & 24.7 & Right Foot & Off T & Open Play \\\\\n",
       "\t6 & 108.6 & 27.8 & Left Foot & Wayward & Open Play \\\\\n",
       "\t7 & 112.5 & 41.7 & Head & Off T & Open Play \\\\\n",
       "\t8 & 112.4 & 41.0 & Head & Off T & Open Play \\\\\n",
       "\t9 & 102.5 & 30.1 & Right Foot & Saved & Open Play \\\\\n",
       "\t10 & 110.0 & 27.7 & Right Foot & Wayward & Open Play \\\\\n",
       "\t11 & 106.1 & 32.6 & Right Foot & Off T & Open Play \\\\\n",
       "\t12 & 116.5 & 31.2 & Left Foot & Saved & Open Play \\\\\n",
       "\t13 & 105.6 & 23.9 & Left Foot & Blocked & Open Play \\\\\n",
       "\t14 & 110.3 & 25.3 & Right Foot & Blocked & Open Play \\\\\n",
       "\t15 & 94.9 & 26.3 & Right Foot & Blocked & Open Play \\\\\n",
       "\t16 & 106.7 & 26.5 & Left Foot & Blocked & Open Play \\\\\n",
       "\t17 & 100.0 & 57.4 & Left Foot & Off T & Open Play \\\\\n",
       "\t18 & 100.0 & 27.6 & Right Foot & Blocked & Open Play \\\\\n",
       "\t19 & 106.3 & 47.0 & Left Foot & Post & Open Play \\\\\n",
       "\t20 & 88.5 & 41.2 & Right Foot & Wayward & Open Play \\\\\n",
       "\t21 & 108.4 & 30.2 & Left Foot & Saved & Open Play \\\\\n",
       "\t22 & 114.5 & 32.8 & Right Foot & Off T & Open Play \\\\\n",
       "\t23 & 113.2 & 31.4 & Right Foot & Saved & Open Play \\\\\n",
       "\t24 & 105.3 & 33.4 & Right Foot & Goal & Open Play \\\\\n",
       "\t25 & 106.6 & 46.8 & Left Foot & Saved & Open Play \\\\\n",
       "\t26 & 111.5 & 36.2 & Left Foot & Goal & Open Play \\\\\n",
       "\t27 & 119.2 & 27.8 & Right Foot & Off T & Open Play \\\\\n",
       "\t28 & 105.7 & 21.6 & Left Foot & Saved & Open Play \\\\\n",
       "\t29 & 88.9 & 46.8 & Right Foot & Saved & Open Play \\\\\n",
       "\t30 & 92.0 & 28.6 & Right Foot & Off T & Open Play \\\\\n",
       "\t$\\dots$ & $\\dots$ & $\\dots$ & $\\dots$ & $\\dots$ & $\\dots$ \\\\\n",
       "\\end{tabular}\n"
      ],
      "text/plain": [
       "\u001b[1m31195×5 DataFrame\u001b[0m\n",
       "\u001b[1m   Row \u001b[0m│\u001b[1m location_x \u001b[0m\u001b[1m location_y \u001b[0m\u001b[1m body_part  \u001b[0m\u001b[1m outcome  \u001b[0m\u001b[1m shot_type \u001b[0m\n",
       "       │\u001b[90m Float64    \u001b[0m\u001b[90m Float64    \u001b[0m\u001b[90m String15   \u001b[0m\u001b[90m String31 \u001b[0m\u001b[90m String15  \u001b[0m\n",
       "───────┼─────────────────────────────────────────────────────────\n",
       "     1 │      111.5        52.9  Right Foot  Off T     Open Play\n",
       "     2 │      113.9        26.4  Left Foot   Off T     Open Play\n",
       "     3 │       93.7        34.7  Left Foot   Saved     Open Play\n",
       "     4 │      109.2        39.1  Head        Off T     Open Play\n",
       "     5 │      107.8        24.7  Right Foot  Off T     Open Play\n",
       "     6 │      108.6        27.8  Left Foot   Wayward   Open Play\n",
       "     7 │      112.5        41.7  Head        Off T     Open Play\n",
       "     8 │      112.4        41.0  Head        Off T     Open Play\n",
       "     9 │      102.5        30.1  Right Foot  Saved     Open Play\n",
       "    10 │      110.0        27.7  Right Foot  Wayward   Open Play\n",
       "    11 │      106.1        32.6  Right Foot  Off T     Open Play\n",
       "   ⋮   │     ⋮           ⋮           ⋮          ⋮          ⋮\n",
       " 31186 │      101.5        56.7  Left Foot   Off T     Open Play\n",
       " 31187 │      109.4        42.4  Right Foot  Saved     Open Play\n",
       " 31188 │      109.3        50.4  Right Foot  Off T     Open Play\n",
       " 31189 │      110.5        33.3  Head        Off T     Open Play\n",
       " 31190 │      110.2        36.3  Head        Saved     Open Play\n",
       " 31191 │      101.3        38.6  Right Foot  Wayward   Open Play\n",
       " 31192 │       92.6        52.3  Right Foot  Off T     Open Play\n",
       " 31193 │      103.5        46.2  Right Foot  Blocked   Open Play\n",
       " 31194 │      104.1        51.2  Right Foot  Off T     Open Play\n",
       " 31195 │      106.9        59.6  Left Foot   Off T     Open Play\n",
       "\u001b[36m                                               31174 rows omitted\u001b[0m"
      ]
     },
     "execution_count": 4,
     "metadata": {},
     "output_type": "execute_result"
    }
   ],
   "source": [
    "df = sdf[sdf.shot_type .== \"Open Play\", :]"
   ]
  },
  {
   "cell_type": "code",
   "execution_count": 5,
   "id": "f3b716cd",
   "metadata": {},
   "outputs": [
    {
     "data": {
      "text/plain": [
       "distance_to_goal"
      ]
     },
     "execution_count": 5,
     "metadata": {},
     "output_type": "execute_result"
    }
   ],
   "source": [
    "\"Find the angle subtended by the goal at the given position.\"\n",
    "function angle_subtended(p_vec :: Vector{Float64}, l_vec :: Vector{Float64}, r_vec :: Vector{Float64}) :: Float64\n",
    "    # using a . b == ||a|| ||b|| cos(theta) <=> cos(theta) = (a . b) / (||a|| ||b||)\n",
    "    return rad2deg(acos(dot(l_vec, r_vec) / (nrm2(l_vec) * nrm2(r_vec))))\n",
    "end\n",
    "\n",
    "\"Find the closest distance to goal from each shot location\"\n",
    "function distance_to_goal(p_vec, l_vec, r_vec)\n",
    "    if (MAX_Y - GOAL_SIZE) / 2 <= p_vec[2] <= (MAX_Y + GOAL_SIZE) / 2\n",
    "        return MAX_X - p_vec[1]\n",
    "    end\n",
    "    return min((√dot(l_vec, l_vec)), (√dot(r_vec, r_vec)))\n",
    "end"
   ]
  },
  {
   "cell_type": "code",
   "execution_count": 6,
   "id": "61681503",
   "metadata": {},
   "outputs": [],
   "source": [
    "angle_subtended_vec = []\n",
    "distance_to_goal_vec = []\n",
    "goal_post_edges = [(MAX_X, (MAX_Y - GOAL_SIZE) / 2), (MAX_X, (MAX_Y + GOAL_SIZE) / 2)]\n",
    "for (x, y) in zip(df.location_x, df.location_y)\n",
    "    p_vec = [x, y]\n",
    "    l_vec = goal_post_edges[1] .- p_vec\n",
    "    r_vec = goal_post_edges[2] .- p_vec\n",
    "    push!(angle_subtended_vec, angle_subtended(p_vec, l_vec, r_vec))\n",
    "    push!(distance_to_goal_vec, distance_to_goal(p_vec, l_vec, r_vec))\n",
    "end"
   ]
  },
  {
   "cell_type": "code",
   "execution_count": 7,
   "id": "4eab4ad7",
   "metadata": {},
   "outputs": [
    {
     "data": {
      "text/html": [
       "<div><div style = \"float: left;\"><span>31195×7 DataFrame</span></div><div style = \"float: right;\"><span style = \"font-style: italic;\">31170 rows omitted</span></div><div style = \"clear: both;\"></div></div><div class = \"data-frame\" style = \"overflow-x: scroll;\"><table class = \"data-frame\" style = \"margin-bottom: 6px;\"><thead><tr class = \"header\"><th class = \"rowNumber\" style = \"font-weight: bold; text-align: right;\">Row</th><th style = \"text-align: left;\">location_x</th><th style = \"text-align: left;\">location_y</th><th style = \"text-align: left;\">body_part</th><th style = \"text-align: left;\">outcome</th><th style = \"text-align: left;\">shot_type</th><th style = \"text-align: left;\">distance</th><th style = \"text-align: left;\">degrees_subtended</th></tr><tr class = \"subheader headerLastRow\"><th class = \"rowNumber\" style = \"font-weight: bold; text-align: right;\"></th><th title = \"Float64\" style = \"text-align: left;\">Float64</th><th title = \"Float64\" style = \"text-align: left;\">Float64</th><th title = \"InlineStrings.String15\" style = \"text-align: left;\">String15</th><th title = \"InlineStrings.String31\" style = \"text-align: left;\">String31</th><th title = \"InlineStrings.String15\" style = \"text-align: left;\">String15</th><th title = \"Any\" style = \"text-align: left;\">Any</th><th title = \"Any\" style = \"text-align: left;\">Any</th></tr></thead><tbody><tr><td class = \"rowNumber\" style = \"font-weight: bold; text-align: right;\">1</td><td style = \"text-align: right;\">111.5</td><td style = \"text-align: right;\">52.9</td><td style = \"text-align: left;\">Right Foot</td><td style = \"text-align: left;\">Off T</td><td style = \"text-align: left;\">Open Play</td><td style = \"text-align: left;\">12.3069</td><td style = \"text-align: left;\">16.9826</td></tr><tr><td class = \"rowNumber\" style = \"font-weight: bold; text-align: right;\">2</td><td style = \"text-align: right;\">113.9</td><td style = \"text-align: right;\">26.4</td><td style = \"text-align: left;\">Left Foot</td><td style = \"text-align: left;\">Off T</td><td style = \"text-align: left;\">Open Play</td><td style = \"text-align: left;\">11.3741</td><td style = \"text-align: left;\">13.3167</td></tr><tr><td class = \"rowNumber\" style = \"font-weight: bold; text-align: right;\">3</td><td style = \"text-align: right;\">93.7</td><td style = \"text-align: right;\">34.7</td><td style = \"text-align: left;\">Left Foot</td><td style = \"text-align: left;\">Saved</td><td style = \"text-align: left;\">Open Play</td><td style = \"text-align: left;\">26.3321</td><td style = \"text-align: left;\">16.6444</td></tr><tr><td class = \"rowNumber\" style = \"font-weight: bold; text-align: right;\">4</td><td style = \"text-align: right;\">109.2</td><td style = \"text-align: right;\">39.1</td><td style = \"text-align: left;\">Head</td><td style = \"text-align: left;\">Off T</td><td style = \"text-align: left;\">Open Play</td><td style = \"text-align: left;\">10.8</td><td style = \"text-align: left;\">40.4194</td></tr><tr><td class = \"rowNumber\" style = \"font-weight: bold; text-align: right;\">5</td><td style = \"text-align: right;\">107.8</td><td style = \"text-align: right;\">24.7</td><td style = \"text-align: left;\">Right Foot</td><td style = \"text-align: left;\">Off T</td><td style = \"text-align: left;\">Open Play</td><td style = \"text-align: left;\">16.6292</td><td style = \"text-align: left;\">14.8953</td></tr><tr><td class = \"rowNumber\" style = \"font-weight: bold; text-align: right;\">6</td><td style = \"text-align: right;\">108.6</td><td style = \"text-align: right;\">27.8</td><td style = \"text-align: left;\">Left Foot</td><td style = \"text-align: left;\">Wayward</td><td style = \"text-align: left;\">Open Play</td><td style = \"text-align: left;\">14.0428</td><td style = \"text-align: left;\">19.1384</td></tr><tr><td class = \"rowNumber\" style = \"font-weight: bold; text-align: right;\">7</td><td style = \"text-align: right;\">112.5</td><td style = \"text-align: right;\">41.7</td><td style = \"text-align: left;\">Head</td><td style = \"text-align: left;\">Off T</td><td style = \"text-align: left;\">Open Play</td><td style = \"text-align: left;\">7.5</td><td style = \"text-align: left;\">54.2839</td></tr><tr><td class = \"rowNumber\" style = \"font-weight: bold; text-align: right;\">8</td><td style = \"text-align: right;\">112.4</td><td style = \"text-align: right;\">41.0</td><td style = \"text-align: left;\">Head</td><td style = \"text-align: left;\">Off T</td><td style = \"text-align: left;\">Open Play</td><td style = \"text-align: left;\">7.6</td><td style = \"text-align: left;\">54.8817</td></tr><tr><td class = \"rowNumber\" style = \"font-weight: bold; text-align: right;\">9</td><td style = \"text-align: right;\">102.5</td><td style = \"text-align: right;\">30.1</td><td style = \"text-align: left;\">Right Foot</td><td style = \"text-align: left;\">Saved</td><td style = \"text-align: left;\">Open Play</td><td style = \"text-align: left;\">18.4678</td><td style = \"text-align: left;\">19.8284</td></tr><tr><td class = \"rowNumber\" style = \"font-weight: bold; text-align: right;\">10</td><td style = \"text-align: right;\">110.0</td><td style = \"text-align: right;\">27.7</td><td style = \"text-align: left;\">Right Foot</td><td style = \"text-align: left;\">Wayward</td><td style = \"text-align: left;\">Open Play</td><td style = \"text-align: left;\">12.9958</td><td style = \"text-align: left;\">18.7783</td></tr><tr><td class = \"rowNumber\" style = \"font-weight: bold; text-align: right;\">11</td><td style = \"text-align: right;\">106.1</td><td style = \"text-align: right;\">32.6</td><td style = \"text-align: left;\">Right Foot</td><td style = \"text-align: left;\">Off T</td><td style = \"text-align: left;\">Open Play</td><td style = \"text-align: left;\">14.3098</td><td style = \"text-align: left;\">25.6118</td></tr><tr><td class = \"rowNumber\" style = \"font-weight: bold; text-align: right;\">12</td><td style = \"text-align: right;\">116.5</td><td style = \"text-align: right;\">31.2</td><td style = \"text-align: left;\">Left Foot</td><td style = \"text-align: left;\">Saved</td><td style = \"text-align: left;\">Open Play</td><td style = \"text-align: left;\">5.94054</td><td style = \"text-align: left;\">20.8053</td></tr><tr><td class = \"rowNumber\" style = \"font-weight: bold; text-align: right;\">13</td><td style = \"text-align: right;\">105.6</td><td style = \"text-align: right;\">23.9</td><td style = \"text-align: left;\">Left Foot</td><td style = \"text-align: left;\">Blocked</td><td style = \"text-align: left;\">Open Play</td><td style = \"text-align: left;\">18.8088</td><td style = \"text-align: left;\">14.3419</td></tr><tr><td style = \"text-align: right;\">&vellip;</td><td style = \"text-align: right;\">&vellip;</td><td style = \"text-align: right;\">&vellip;</td><td style = \"text-align: right;\">&vellip;</td><td style = \"text-align: right;\">&vellip;</td><td style = \"text-align: right;\">&vellip;</td><td style = \"text-align: right;\">&vellip;</td><td style = \"text-align: right;\">&vellip;</td></tr><tr><td class = \"rowNumber\" style = \"font-weight: bold; text-align: right;\">31184</td><td style = \"text-align: right;\">97.3</td><td style = \"text-align: right;\">26.4</td><td style = \"text-align: left;\">Right Foot</td><td style = \"text-align: left;\">Goal</td><td style = \"text-align: left;\">Open Play</td><td style = \"text-align: left;\">24.6465</td><td style = \"text-align: left;\">14.8636</td></tr><tr><td class = \"rowNumber\" style = \"font-weight: bold; text-align: right;\">31185</td><td style = \"text-align: right;\">87.0</td><td style = \"text-align: right;\">46.5</td><td style = \"text-align: left;\">Left Foot</td><td style = \"text-align: left;\">Off T</td><td style = \"text-align: left;\">Open Play</td><td style = \"text-align: left;\">33.0946</td><td style = \"text-align: left;\">13.3178</td></tr><tr><td class = \"rowNumber\" style = \"font-weight: bold; text-align: right;\">31186</td><td style = \"text-align: right;\">101.5</td><td style = \"text-align: right;\">56.7</td><td style = \"text-align: left;\">Left Foot</td><td style = \"text-align: left;\">Off T</td><td style = \"text-align: left;\">Open Play</td><td style = \"text-align: left;\">22.4397</td><td style = \"text-align: left;\">13.7431</td></tr><tr><td class = \"rowNumber\" style = \"font-weight: bold; text-align: right;\">31187</td><td style = \"text-align: right;\">109.4</td><td style = \"text-align: right;\">42.4</td><td style = \"text-align: left;\">Right Foot</td><td style = \"text-align: left;\">Saved</td><td style = \"text-align: left;\">Open Play</td><td style = \"text-align: left;\">10.6</td><td style = \"text-align: left;\">39.7061</td></tr><tr><td class = \"rowNumber\" style = \"font-weight: bold; text-align: right;\">31188</td><td style = \"text-align: right;\">109.3</td><td style = \"text-align: right;\">50.4</td><td style = \"text-align: left;\">Right Foot</td><td style = \"text-align: left;\">Off T</td><td style = \"text-align: left;\">Open Play</td><td style = \"text-align: left;\">12.468</td><td style = \"text-align: left;\">22.5007</td></tr><tr><td class = \"rowNumber\" style = \"font-weight: bold; text-align: right;\">31189</td><td style = \"text-align: right;\">110.5</td><td style = \"text-align: right;\">33.3</td><td style = \"text-align: left;\">Head</td><td style = \"text-align: left;\">Off T</td><td style = \"text-align: left;\">Open Play</td><td style = \"text-align: left;\">9.87623</td><td style = \"text-align: left;\">32.534</td></tr><tr><td class = \"rowNumber\" style = \"font-weight: bold; text-align: right;\">31190</td><td style = \"text-align: right;\">110.2</td><td style = \"text-align: right;\">36.3</td><td style = \"text-align: left;\">Head</td><td style = \"text-align: left;\">Saved</td><td style = \"text-align: left;\">Open Play</td><td style = \"text-align: left;\">9.8</td><td style = \"text-align: left;\">39.9106</td></tr><tr><td class = \"rowNumber\" style = \"font-weight: bold; text-align: right;\">31191</td><td style = \"text-align: right;\">101.3</td><td style = \"text-align: right;\">38.6</td><td style = \"text-align: left;\">Right Foot</td><td style = \"text-align: left;\">Wayward</td><td style = \"text-align: left;\">Open Play</td><td style = \"text-align: left;\">18.7</td><td style = \"text-align: left;\">24.0226</td></tr><tr><td class = \"rowNumber\" style = \"font-weight: bold; text-align: right;\">31192</td><td style = \"text-align: right;\">92.6</td><td style = \"text-align: right;\">52.3</td><td style = \"text-align: left;\">Right Foot</td><td style = \"text-align: left;\">Off T</td><td style = \"text-align: left;\">Open Play</td><td style = \"text-align: left;\">28.6295</td><td style = \"text-align: left;\">13.8954</td></tr><tr><td class = \"rowNumber\" style = \"font-weight: bold; text-align: right;\">31193</td><td style = \"text-align: right;\">103.5</td><td style = \"text-align: right;\">46.2</td><td style = \"text-align: left;\">Right Foot</td><td style = \"text-align: left;\">Blocked</td><td style = \"text-align: left;\">Open Play</td><td style = \"text-align: left;\">16.646</td><td style = \"text-align: left;\">24.129</td></tr><tr><td class = \"rowNumber\" style = \"font-weight: bold; text-align: right;\">31194</td><td style = \"text-align: right;\">104.1</td><td style = \"text-align: right;\">51.2</td><td style = \"text-align: left;\">Right Foot</td><td style = \"text-align: left;\">Off T</td><td style = \"text-align: left;\">Open Play</td><td style = \"text-align: left;\">17.4542</td><td style = \"text-align: left;\">19.3481</td></tr><tr><td class = \"rowNumber\" style = \"font-weight: bold; text-align: right;\">31195</td><td style = \"text-align: right;\">106.9</td><td style = \"text-align: right;\">59.6</td><td style = \"text-align: left;\">Left Foot</td><td style = \"text-align: left;\">Off T</td><td style = \"text-align: left;\">Open Play</td><td style = \"text-align: left;\">20.3708</td><td style = \"text-align: left;\">10.9877</td></tr></tbody></table></div>"
      ],
      "text/latex": [
       "\\begin{tabular}{r|ccccccc}\n",
       "\t& location\\_x & location\\_y & body\\_part & outcome & shot\\_type & distance & degrees\\_subtended\\\\\n",
       "\t\\hline\n",
       "\t& Float64 & Float64 & String15 & String31 & String15 & Any & Any\\\\\n",
       "\t\\hline\n",
       "\t1 & 111.5 & 52.9 & Right Foot & Off T & Open Play & 12.3069 & 16.9826 \\\\\n",
       "\t2 & 113.9 & 26.4 & Left Foot & Off T & Open Play & 11.3741 & 13.3167 \\\\\n",
       "\t3 & 93.7 & 34.7 & Left Foot & Saved & Open Play & 26.3321 & 16.6444 \\\\\n",
       "\t4 & 109.2 & 39.1 & Head & Off T & Open Play & 10.8 & 40.4194 \\\\\n",
       "\t5 & 107.8 & 24.7 & Right Foot & Off T & Open Play & 16.6292 & 14.8953 \\\\\n",
       "\t6 & 108.6 & 27.8 & Left Foot & Wayward & Open Play & 14.0428 & 19.1384 \\\\\n",
       "\t7 & 112.5 & 41.7 & Head & Off T & Open Play & 7.5 & 54.2839 \\\\\n",
       "\t8 & 112.4 & 41.0 & Head & Off T & Open Play & 7.6 & 54.8817 \\\\\n",
       "\t9 & 102.5 & 30.1 & Right Foot & Saved & Open Play & 18.4678 & 19.8284 \\\\\n",
       "\t10 & 110.0 & 27.7 & Right Foot & Wayward & Open Play & 12.9958 & 18.7783 \\\\\n",
       "\t11 & 106.1 & 32.6 & Right Foot & Off T & Open Play & 14.3098 & 25.6118 \\\\\n",
       "\t12 & 116.5 & 31.2 & Left Foot & Saved & Open Play & 5.94054 & 20.8053 \\\\\n",
       "\t13 & 105.6 & 23.9 & Left Foot & Blocked & Open Play & 18.8088 & 14.3419 \\\\\n",
       "\t14 & 110.3 & 25.3 & Right Foot & Blocked & Open Play & 14.4423 & 14.7771 \\\\\n",
       "\t15 & 94.9 & 26.3 & Right Foot & Blocked & Open Play & 26.9091 & 14.0615 \\\\\n",
       "\t16 & 106.7 & 26.5 & Left Foot & Blocked & Open Play & 16.3444 & 17.2275 \\\\\n",
       "\t17 & 100.0 & 57.4 & Left Foot & Off T & Open Play & 24.0741 & 13.1147 \\\\\n",
       "\t18 & 100.0 & 27.6 & Right Foot & Blocked & Open Play & 21.6924 & 16.5693 \\\\\n",
       "\t19 & 106.3 & 47.0 & Left Foot & Post & Open Play & 14.0246 & 26.4101 \\\\\n",
       "\t20 & 88.5 & 41.2 & Right Foot & Wayward & Open Play & 31.5 & 14.4534 \\\\\n",
       "\t21 & 108.4 & 30.2 & Left Foot & Saved & Open Play & 12.9692 & 23.3852 \\\\\n",
       "\t22 & 114.5 & 32.8 & Right Foot & Off T & Open Play & 6.36318 & 33.654 \\\\\n",
       "\t23 & 113.2 & 31.4 & Right Foot & Saved & Open Play & 8.20975 & 27.5678 \\\\\n",
       "\t24 & 105.3 & 33.4 & Right Foot & Goal & Open Play & 14.9282 & 25.7647 \\\\\n",
       "\t25 & 106.6 & 46.8 & Left Foot & Saved & Open Play & 13.6894 & 27.0653 \\\\\n",
       "\t26 & 111.5 & 36.2 & Left Foot & Goal & Open Play & 8.5 & 43.8888 \\\\\n",
       "\t27 & 119.2 & 27.8 & Right Foot & Off T & Open Play & 8.23893 & 2.74507 \\\\\n",
       "\t28 & 105.7 & 21.6 & Left Foot & Saved & Open Play & 20.2941 & 12.2465 \\\\\n",
       "\t29 & 88.9 & 46.8 & Right Foot & Saved & Open Play & 31.2258 & 14.0058 \\\\\n",
       "\t30 & 92.0 & 28.6 & Right Foot & Off T & Open Play & 28.9614 & 14.0068 \\\\\n",
       "\t$\\dots$ & $\\dots$ & $\\dots$ & $\\dots$ & $\\dots$ & $\\dots$ & $\\dots$ & $\\dots$ \\\\\n",
       "\\end{tabular}\n"
      ],
      "text/plain": [
       "\u001b[1m31195×7 DataFrame\u001b[0m\n",
       "\u001b[1m   Row \u001b[0m│\u001b[1m location_x \u001b[0m\u001b[1m location_y \u001b[0m\u001b[1m body_part  \u001b[0m\u001b[1m outcome  \u001b[0m\u001b[1m shot_type \u001b[0m\u001b[1m distance \u001b[0m\u001b[1m de\u001b[0m ⋯\n",
       "       │\u001b[90m Float64    \u001b[0m\u001b[90m Float64    \u001b[0m\u001b[90m String15   \u001b[0m\u001b[90m String31 \u001b[0m\u001b[90m String15  \u001b[0m\u001b[90m Any      \u001b[0m\u001b[90m An\u001b[0m ⋯\n",
       "───────┼────────────────────────────────────────────────────────────────────────\n",
       "     1 │      111.5        52.9  Right Foot  Off T     Open Play  12.3069   16 ⋯\n",
       "     2 │      113.9        26.4  Left Foot   Off T     Open Play  11.3741   13\n",
       "     3 │       93.7        34.7  Left Foot   Saved     Open Play  26.3321   16\n",
       "     4 │      109.2        39.1  Head        Off T     Open Play  10.8      40\n",
       "     5 │      107.8        24.7  Right Foot  Off T     Open Play  16.6292   14 ⋯\n",
       "     6 │      108.6        27.8  Left Foot   Wayward   Open Play  14.0428   19\n",
       "     7 │      112.5        41.7  Head        Off T     Open Play  7.5       54\n",
       "     8 │      112.4        41.0  Head        Off T     Open Play  7.6       54\n",
       "     9 │      102.5        30.1  Right Foot  Saved     Open Play  18.4678   19 ⋯\n",
       "    10 │      110.0        27.7  Right Foot  Wayward   Open Play  12.9958   18\n",
       "    11 │      106.1        32.6  Right Foot  Off T     Open Play  14.3098   25\n",
       "   ⋮   │     ⋮           ⋮           ⋮          ⋮          ⋮         ⋮         ⋱\n",
       " 31186 │      101.5        56.7  Left Foot   Off T     Open Play  22.4397   13\n",
       " 31187 │      109.4        42.4  Right Foot  Saved     Open Play  10.6      39 ⋯\n",
       " 31188 │      109.3        50.4  Right Foot  Off T     Open Play  12.468    22\n",
       " 31189 │      110.5        33.3  Head        Off T     Open Play  9.87623   32\n",
       " 31190 │      110.2        36.3  Head        Saved     Open Play  9.8       39\n",
       " 31191 │      101.3        38.6  Right Foot  Wayward   Open Play  18.7      24 ⋯\n",
       " 31192 │       92.6        52.3  Right Foot  Off T     Open Play  28.6295   13\n",
       " 31193 │      103.5        46.2  Right Foot  Blocked   Open Play  16.646    24\n",
       " 31194 │      104.1        51.2  Right Foot  Off T     Open Play  17.4542   19\n",
       " 31195 │      106.9        59.6  Left Foot   Off T     Open Play  20.3708   10 ⋯\n",
       "\u001b[36m                                                 1 column and 31174 rows omitted\u001b[0m"
      ]
     },
     "execution_count": 7,
     "metadata": {},
     "output_type": "execute_result"
    }
   ],
   "source": [
    "insertcols!(df, :distance => distance_to_goal_vec, :degrees_subtended => angle_subtended_vec)"
   ]
  },
  {
   "cell_type": "code",
   "execution_count": 8,
   "id": "4f4863fd",
   "metadata": {},
   "outputs": [
    {
     "data": {
      "text/plain": [
       "\"../data/shot_data_aug_v0.1.csv\""
      ]
     },
     "execution_count": 8,
     "metadata": {},
     "output_type": "execute_result"
    }
   ],
   "source": [
    "CSV.write(output_file_path, df)"
   ]
  }
 ],
 "metadata": {
  "kernelspec": {
   "display_name": "Julia 1.8.5",
   "language": "julia",
   "name": "julia-1.8"
  },
  "language_info": {
   "file_extension": ".jl",
   "mimetype": "application/julia",
   "name": "julia",
   "version": "1.8.5"
  }
 },
 "nbformat": 4,
 "nbformat_minor": 5
}
